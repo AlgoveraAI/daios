{
 "cells": [
  {
   "cell_type": "code",
   "execution_count": 2,
   "metadata": {},
   "outputs": [],
   "source": [
    "import json\n",
    "import uuid\n",
    "import requests"
   ]
  },
  {
   "cell_type": "markdown",
   "metadata": {},
   "source": [
    "## Test embedding, chat"
   ]
  },
  {
   "cell_type": "markdown",
   "metadata": {},
   "source": [
    "##### Embedding"
   ]
  },
  {
   "cell_type": "code",
   "execution_count": 26,
   "metadata": {},
   "outputs": [
    {
     "data": {
      "text/plain": [
       "{'ok': True, 'message': 'Embedding request received'}"
      ]
     },
     "execution_count": 26,
     "metadata": {},
     "output_type": "execute_result"
    }
   ],
   "source": [
    "\n",
    "url = \"http://localhost:8000/embedding\"\n",
    "r = requests.post(url, json={\"admin_password\": \"valory_algover\"})\n",
    "r.raise_for_status()\n",
    "r.json()"
   ]
  },
  {
   "cell_type": "code",
   "execution_count": 27,
   "metadata": {},
   "outputs": [],
   "source": [
    "from tenacity import (\n",
    "    AsyncRetrying,\n",
    "    before_sleep_log,\n",
    "    retry,\n",
    "    retry_if_exception_type,\n",
    "    stop_after_attempt,\n",
    "    wait_exponential,\n",
    ")"
   ]
  },
  {
   "cell_type": "markdown",
   "metadata": {},
   "source": [
    "##### chat"
   ]
  },
  {
   "cell_type": "code",
   "execution_count": 36,
   "metadata": {},
   "outputs": [],
   "source": [
    "# Chatting over the embedding above. Since no `memory_id` is provided, the agent will assume this is a new conversation\n",
    "id_ = uuid.uuid4().hex\n",
    "payload = {\n",
    "    \"id\": id_,\n",
    "    \"question\": \"What is daios?\",\n",
    "}\n",
    "\n",
    "url = \"http://localhost:8000/chat\"\n",
    "r = requests.post(url, json=payload)\n",
    "r.raise_for_status()\n",
    "r = r.json()\n",
    "mem_id = r[\"memory_id\"]\n"
   ]
  },
  {
   "cell_type": "code",
   "execution_count": 37,
   "metadata": {},
   "outputs": [
    {
     "data": {
      "text/plain": [
       "[{'id': '10467ca444a24624ba32ae9fe156d81b',\n",
       "  'context_id': 'b19b850793774c8785c5ee916946b778',\n",
       "  'memory_id': '5d89536018fc4968b9b61c0cb6cd56ed',\n",
       "  'question': 'What is daios?',\n",
       "  'modified_question': None,\n",
       "  'response': 'Based on the context provided, DAIOS refers to the Decentralized AI Operating System. It is an extension of the Open AEA (Agent Environment Architecture) framework developed by Valory. The DAIOS framework aims to build a decentralized operating system for artificial intelligence, integrating blockchain, messaging, and other technologies.',\n",
       "  'chat_history': [{'role': 'user', 'content': 'What is daios?'},\n",
       "   {'role': 'assistant',\n",
       "    'content': 'Based on the context provided, DAIOS refers to the Decentralized AI Operating System. It is an extension of the Open AEA (Agent Environment Architecture) framework developed by Valory. The DAIOS framework aims to build a decentralized operating system for artificial intelligence, integrating blockchain, messaging, and other technologies.'}],\n",
       "  'request_time': '1690970621.1658242',\n",
       "  'response_time': '1690970629.364684',\n",
       "  'request_type': 'chat',\n",
       "  'processed': True,\n",
       "  'processor': '0x15d34AAf54267DB7D7c367839AAf71A00a2C6A65',\n",
       "  'error': False,\n",
       "  'error_message': None,\n",
       "  'error_name': None}]"
      ]
     },
     "execution_count": 37,
     "metadata": {},
     "output_type": "execute_result"
    }
   ],
   "source": [
    "get_url = f\"http://localhost:8000/get/{id_}\"\n",
    "\n",
    "r = requests.get(get_url)\n",
    "r.raise_for_status()\n",
    "r = r.json(); r"
   ]
  },
  {
   "cell_type": "code",
   "execution_count": 38,
   "metadata": {},
   "outputs": [
    {
     "data": {
      "text/plain": [
       "{'id': '877130f8a6da42ec99b6d19093b39c9c',\n",
       " 'memory_id': '5d89536018fc4968b9b61c0cb6cd56ed'}"
      ]
     },
     "execution_count": 38,
     "metadata": {},
     "output_type": "execute_result"
    }
   ],
   "source": [
    "# since a `memory_id` is provided, the agent will use the memory to generate a follow-up response\n",
    "id_ = uuid.uuid4().hex\n",
    "payload = {\n",
    "    \"id\": id_,\n",
    "    \"context_id\": emb_id_,\n",
    "    \"memory_id\": mem_id,\n",
    "    \"question\": \"does it provide a platform?\",\n",
    "}\n",
    "\n",
    "url = \"http://localhost:8000/chat\"\n",
    "r = requests.post(url, json=payload)\n",
    "r.raise_for_status()\n",
    "r.json()"
   ]
  },
  {
   "cell_type": "code",
   "execution_count": 39,
   "metadata": {},
   "outputs": [
    {
     "data": {
      "text/plain": [
       "[{'id': '877130f8a6da42ec99b6d19093b39c9c',\n",
       "  'context_id': 'b19b850793774c8785c5ee916946b778',\n",
       "  'memory_id': '5d89536018fc4968b9b61c0cb6cd56ed',\n",
       "  'question': 'does it provide a platform?',\n",
       "  'modified_question': 'Does the DAIOS framework provide a platform?',\n",
       "  'response': 'Yes, the DAIOS framework aims to provide a platform for building a Decentralized AI Operating System.',\n",
       "  'chat_history': [{'role': 'user', 'content': 'What is daios?'},\n",
       "   {'role': 'assistant',\n",
       "    'content': 'Based on the context provided, DAIOS refers to the Decentralized AI Operating System. It is an extension of the Open AEA (Agent Environment Architecture) framework developed by Valory. The DAIOS framework aims to build a decentralized operating system for artificial intelligence, integrating blockchain, messaging, and other technologies.'},\n",
       "   {'role': 'user', 'content': 'Does the DAIOS framework provide a platform?'},\n",
       "   {'role': 'assistant',\n",
       "    'content': 'Yes, the DAIOS framework aims to provide a platform for building a Decentralized AI Operating System.'}],\n",
       "  'request_time': '1690970679.759187',\n",
       "  'response_time': '1690970691.7559025',\n",
       "  'request_type': 'chat',\n",
       "  'processed': True,\n",
       "  'processor': '0x15d34AAf54267DB7D7c367839AAf71A00a2C6A65',\n",
       "  'error': False,\n",
       "  'error_message': None,\n",
       "  'error_name': None}]"
      ]
     },
     "execution_count": 39,
     "metadata": {},
     "output_type": "execute_result"
    }
   ],
   "source": [
    "get_url = f\"http://localhost:8000/get/{id_}\"\n",
    "\n",
    "r = requests.get(get_url)\n",
    "r = r.json()\n",
    "r"
   ]
  },
  {
   "cell_type": "markdown",
   "metadata": {},
   "source": [
    "##### Bad requests are handled within the http_server"
   ]
  },
  {
   "cell_type": "code",
   "execution_count": 40,
   "metadata": {},
   "outputs": [
    {
     "ename": "HTTPError",
     "evalue": "400 Client Error: context_id bf68b34c19964a73ba03c9779ef70fa9 does not exist for url: http://localhost:8000/chat",
     "output_type": "error",
     "traceback": [
      "\u001b[0;31m---------------------------------------------------------------------------\u001b[0m",
      "\u001b[0;31mHTTPError\u001b[0m                                 Traceback (most recent call last)",
      "Cell \u001b[0;32mIn[40], line 12\u001b[0m\n\u001b[1;32m     10\u001b[0m url \u001b[39m=\u001b[39m \u001b[39m\"\u001b[39m\u001b[39mhttp://localhost:8000/chat\u001b[39m\u001b[39m\"\u001b[39m\n\u001b[1;32m     11\u001b[0m r \u001b[39m=\u001b[39m requests\u001b[39m.\u001b[39mpost(url, json\u001b[39m=\u001b[39mpayload)\n\u001b[0;32m---> 12\u001b[0m r\u001b[39m.\u001b[39;49mraise_for_status()\n\u001b[1;32m     13\u001b[0m \u001b[39mprint\u001b[39m(r\u001b[39m.\u001b[39mstatus_code)\n",
      "File \u001b[0;32m~/anaconda3/envs/testoa/lib/python3.10/site-packages/requests/models.py:1021\u001b[0m, in \u001b[0;36mResponse.raise_for_status\u001b[0;34m(self)\u001b[0m\n\u001b[1;32m   1016\u001b[0m     http_error_msg \u001b[39m=\u001b[39m (\n\u001b[1;32m   1017\u001b[0m         \u001b[39mf\u001b[39m\u001b[39m\"\u001b[39m\u001b[39m{\u001b[39;00m\u001b[39mself\u001b[39m\u001b[39m.\u001b[39mstatus_code\u001b[39m}\u001b[39;00m\u001b[39m Server Error: \u001b[39m\u001b[39m{\u001b[39;00mreason\u001b[39m}\u001b[39;00m\u001b[39m for url: \u001b[39m\u001b[39m{\u001b[39;00m\u001b[39mself\u001b[39m\u001b[39m.\u001b[39murl\u001b[39m}\u001b[39;00m\u001b[39m\"\u001b[39m\n\u001b[1;32m   1018\u001b[0m     )\n\u001b[1;32m   1020\u001b[0m \u001b[39mif\u001b[39;00m http_error_msg:\n\u001b[0;32m-> 1021\u001b[0m     \u001b[39mraise\u001b[39;00m HTTPError(http_error_msg, response\u001b[39m=\u001b[39m\u001b[39mself\u001b[39m)\n",
      "\u001b[0;31mHTTPError\u001b[0m: 400 Client Error: context_id bf68b34c19964a73ba03c9779ef70fa9 does not exist for url: http://localhost:8000/chat"
     ]
    }
   ],
   "source": [
    "# non-existent memory\n",
    "id_ = uuid.uuid4().hex\n",
    "payload = {\n",
    "    \"id\": id_,\n",
    "    \"context_id\": \"bf68b34c19964a73ba03c9779ef70fa9\",\n",
    "    \"memory_id\": \"87b9426ab1f84ad689e0eb29e350db83\",\n",
    "    \"question\": \"What is daios?\",\n",
    "}\n",
    "\n",
    "url = \"http://localhost:8000/chat\"\n",
    "r = requests.post(url, json=payload)\n",
    "r.raise_for_status()\n",
    "print(r.status_code)\n"
   ]
  },
  {
   "cell_type": "code",
   "execution_count": 13,
   "metadata": {},
   "outputs": [
    {
     "ename": "HTTPError",
     "evalue": "400 Client Error: context_id bf68b34c19964a73ba03c9779ef70fa9 does not exist for url: http://localhost:8000/chat",
     "output_type": "error",
     "traceback": [
      "\u001b[0;31m---------------------------------------------------------------------------\u001b[0m",
      "\u001b[0;31mHTTPError\u001b[0m                                 Traceback (most recent call last)",
      "Cell \u001b[0;32mIn[13], line 11\u001b[0m\n\u001b[1;32m      9\u001b[0m url \u001b[39m=\u001b[39m \u001b[39m\"\u001b[39m\u001b[39mhttp://localhost:8000/chat\u001b[39m\u001b[39m\"\u001b[39m\n\u001b[1;32m     10\u001b[0m r \u001b[39m=\u001b[39m requests\u001b[39m.\u001b[39mpost(url, json\u001b[39m=\u001b[39mpayload)\n\u001b[0;32m---> 11\u001b[0m r\u001b[39m.\u001b[39;49mraise_for_status()\n\u001b[1;32m     12\u001b[0m \u001b[39mprint\u001b[39m(r\u001b[39m.\u001b[39mstatus_code)\n",
      "File \u001b[0;32m~/anaconda3/envs/testoa/lib/python3.10/site-packages/requests/models.py:1021\u001b[0m, in \u001b[0;36mResponse.raise_for_status\u001b[0;34m(self)\u001b[0m\n\u001b[1;32m   1016\u001b[0m     http_error_msg \u001b[39m=\u001b[39m (\n\u001b[1;32m   1017\u001b[0m         \u001b[39mf\u001b[39m\u001b[39m\"\u001b[39m\u001b[39m{\u001b[39;00m\u001b[39mself\u001b[39m\u001b[39m.\u001b[39mstatus_code\u001b[39m}\u001b[39;00m\u001b[39m Server Error: \u001b[39m\u001b[39m{\u001b[39;00mreason\u001b[39m}\u001b[39;00m\u001b[39m for url: \u001b[39m\u001b[39m{\u001b[39;00m\u001b[39mself\u001b[39m\u001b[39m.\u001b[39murl\u001b[39m}\u001b[39;00m\u001b[39m\"\u001b[39m\n\u001b[1;32m   1018\u001b[0m     )\n\u001b[1;32m   1020\u001b[0m \u001b[39mif\u001b[39;00m http_error_msg:\n\u001b[0;32m-> 1021\u001b[0m     \u001b[39mraise\u001b[39;00m HTTPError(http_error_msg, response\u001b[39m=\u001b[39m\u001b[39mself\u001b[39m)\n",
      "\u001b[0;31mHTTPError\u001b[0m: 400 Client Error: context_id bf68b34c19964a73ba03c9779ef70fa9 does not exist for url: http://localhost:8000/chat"
     ]
    }
   ],
   "source": [
    "# non-existent context\n",
    "id_ = uuid.uuid4().hex\n",
    "payload = {\n",
    "    \"id\": id_,\n",
    "    \"context_id\": \"bf68b34c19964a73ba03c9779ef70fa9\",\n",
    "    \"question\": \"What is daios?\",\n",
    "}\n",
    "\n",
    "url = \"http://localhost:8000/chat\"\n",
    "r = requests.post(url, json=payload)\n",
    "r.raise_for_status()\n",
    "print(r.status_code)\n"
   ]
  }
 ],
 "metadata": {
  "kernelspec": {
   "display_name": "openautonomy",
   "language": "python",
   "name": "python3"
  },
  "language_info": {
   "codemirror_mode": {
    "name": "ipython",
    "version": 3
   },
   "file_extension": ".py",
   "mimetype": "text/x-python",
   "name": "python",
   "nbconvert_exporter": "python",
   "pygments_lexer": "ipython3",
   "version": "3.10.12"
  },
  "orig_nbformat": 4
 },
 "nbformat": 4,
 "nbformat_minor": 2
}
