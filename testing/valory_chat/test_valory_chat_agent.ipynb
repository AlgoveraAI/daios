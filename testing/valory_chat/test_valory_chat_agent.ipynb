{
 "cells": [
  {
   "cell_type": "code",
   "execution_count": 2,
   "metadata": {},
   "outputs": [],
   "source": [
    "import json\n",
    "import time\n",
    "import uuid\n",
    "import requests\n",
    "from IPython.display import display, Markdown"
   ]
  },
  {
   "cell_type": "markdown",
   "metadata": {},
   "source": [
    "## Test embedding, chat"
   ]
  },
  {
   "cell_type": "code",
   "execution_count": 3,
   "metadata": {},
   "outputs": [],
   "source": [
    "import requests\n",
    "import time\n",
    "import uuid\n",
    "\n",
    "def get_answer(question, mem_id=None):\n",
    "    id_ = uuid.uuid4().hex\n",
    "    if not mem_id:\n",
    "        payload = {\n",
    "            \"id\": id_,\n",
    "            \"question\": question,\n",
    "        }\n",
    "    else:\n",
    "        payload = {\n",
    "            \"id\": id_,\n",
    "            \"question\": question,\n",
    "            \"memory_id\": mem_id,\n",
    "        }\n",
    "\n",
    "    url = \"http://localhost:8000/chat\"\n",
    "    r = requests.post(url, json=payload)\n",
    "    r.raise_for_status()\n",
    "    r = r.json()\n",
    "    mem_id = r[\"memory_id\"]\n",
    "    print(\"Request sent. Waiting for response...\")\n",
    "    time.sleep(10)\n",
    "\n",
    "    num_retries = 0\n",
    "    while True:\n",
    "        try:\n",
    "            url = f\"http://localhost:8000/get/{id_}\"\n",
    "            r = requests.get(url)\n",
    "            try:\n",
    "                r.raise_for_status()\n",
    "                r = r.json()\n",
    "                if r[0][\"processed\"]:\n",
    "                    break\n",
    "                print(\"Waiting for response...\")\n",
    "                time.sleep(3)\n",
    "            except requests.exceptions.HTTPError as e:\n",
    "                if num_retries > 5:\n",
    "                    raise e\n",
    "                print(f\"Retrying... {num_retries+1}\")\n",
    "                num_retries += 1\n",
    "                time.sleep(10)     \n",
    "        except Exception as e:\n",
    "            print(e)\n",
    "            if num_retries > 5:\n",
    "                raise e\n",
    "            print(f\"Retrying... {num_retries+1}\")   \n",
    "\n",
    "    return r[0][\"response\"], mem_id\n"
   ]
  },
  {
   "cell_type": "markdown",
   "metadata": {},
   "source": [
    "##### Embedding"
   ]
  },
  {
   "cell_type": "code",
   "execution_count": 4,
   "metadata": {},
   "outputs": [
    {
     "data": {
      "text/plain": [
       "{'ok': True, 'message': 'Embedding request received'}"
      ]
     },
     "execution_count": 4,
     "metadata": {},
     "output_type": "execute_result"
    }
   ],
   "source": [
    "\n",
    "url = \"http://localhost:8000/embedding\"\n",
    "r = requests.post(url, json={\"admin_password\": \"valory_algover\"})\n",
    "r.raise_for_status()\n",
    "r.json()"
   ]
  },
  {
   "cell_type": "markdown",
   "metadata": {},
   "source": [
    "##### chat"
   ]
  },
  {
   "cell_type": "code",
   "execution_count": 5,
   "metadata": {},
   "outputs": [
    {
     "name": "stdout",
     "output_type": "stream",
     "text": [
      "Request sent. Waiting for response...\n",
      "Waiting for response...\n",
      "Waiting for response...\n",
      "Waiting for response...\n",
      "Waiting for response...\n",
      "Waiting for response...\n"
     ]
    },
    {
     "data": {
      "text/markdown": [
       "Open Autonomy is a framework for the creation of agent services. These agent services are off-chain autonomous services that run as a multi-agent system and offer enhanced functionalities on-chain. They expand the range of operations that traditional smart contracts provide, allowing for the execution of arbitrarily complex operations such as machine learning algorithms. These agent services are decentralized, trust-minimized, transparent, and robust. The framework provides command line tools and base packages to build, deploy, publish, and test agent services.\n",
       "\n",
       "Based on the given context, Open Autonomy is a framework that enables the creation of decentralized and autonomous services that run off-chain but offer enhanced functionality on-chain. These services can execute complex operations and are built using command line tools and base packages provided by the framework."
      ],
      "text/plain": [
       "<IPython.core.display.Markdown object>"
      ]
     },
     "execution_count": 5,
     "metadata": {},
     "output_type": "execute_result"
    }
   ],
   "source": [
    "res, mem_id = get_answer(\"what is open autonomy\")\n",
    "\n",
    "Markdown(res)"
   ]
  },
  {
   "cell_type": "code",
   "execution_count": 6,
   "metadata": {},
   "outputs": [
    {
     "name": "stdout",
     "output_type": "stream",
     "text": [
      "Request sent. Waiting for response...\n",
      "Waiting for response...\n",
      "Waiting for response...\n",
      "Waiting for response...\n",
      "Waiting for response...\n",
      "Waiting for response...\n",
      "Waiting for response...\n"
     ]
    },
    {
     "data": {
      "text/markdown": [
       "An agent service is a type of off-chain autonomous service that runs as a multi-agent system and is secured on a public blockchain. It is decentralized, trust-minimized, transparent, and robust. An agent service is composed of multiple agents and is owned by an operator who manages the infrastructure. Each agent within the service has its own set of functionalities and implements different communication protocols. The core component inside an agent is the FSM app, which defines the business logic of the service. The internal state of an agent service is replicated across all agents through a consensus gadget. Agent services can perform complex, proactive behaviors and can interact with smart contracts. They are different from smart contracts, web services, and custom decentralized services in terms of their architecture and capabilities."
      ],
      "text/plain": [
       "<IPython.core.display.Markdown object>"
      ]
     },
     "execution_count": 6,
     "metadata": {},
     "output_type": "execute_result"
    }
   ],
   "source": [
    "res, mem_id = get_answer(\"What is an agent service\")\n",
    "\n",
    "Markdown(res)"
   ]
  },
  {
   "cell_type": "code",
   "execution_count": 7,
   "metadata": {},
   "outputs": [
    {
     "name": "stdout",
     "output_type": "stream",
     "text": [
      "Request sent. Waiting for response...\n",
      "Waiting for response...\n",
      "Waiting for response...\n",
      "Waiting for response...\n"
     ]
    },
    {
     "data": {
      "text/markdown": [
       "Based on the provided context, agent services are needed because they go beyond simple, reactive applications like smart contracts and can exhibit complex, proactive behaviors that involve off-chain logic. They can trigger specific actions on external events and execute machine learning models. Agent services are decentralized and can provide functionalities to objects living on-chain. They are designed to be autonomous and can act as decentralized oracles for smart contracts or execute complex investing strategies that cannot be easily encoded on-chain. In summary, agent services provide advanced capabilities and functionalities that are not possible with other software solutions like smart contracts, web services, or custom decentralized services."
      ],
      "text/plain": [
       "<IPython.core.display.Markdown object>"
      ]
     },
     "execution_count": 7,
     "metadata": {},
     "output_type": "execute_result"
    }
   ],
   "source": [
    "res, mem_id = get_answer(\"why do we need agent services\")\n",
    "\n",
    "Markdown(res)"
   ]
  },
  {
   "cell_type": "code",
   "execution_count": 9,
   "metadata": {},
   "outputs": [
    {
     "name": "stdout",
     "output_type": "stream",
     "text": [
      "Request sent. Waiting for response...\n",
      "Waiting for response...\n",
      "Waiting for response...\n",
      "Waiting for response...\n",
      "Waiting for response...\n",
      "Waiting for response...\n",
      "Waiting for response...\n"
     ]
    },
    {
     "data": {
      "text/markdown": [
       "The key concepts of open autonomy are:\n",
       "\n",
       "1. Agent services: These are off-chain autonomous services that run as a multi-agent-system (MAS) and offer enhanced functionalities on-chain. They expand the range of operations that traditional smart contracts provide, allowing for the execution of arbitrarily complex operations.\n",
       "\n",
       "2. Finite-state machine (FSM) specification: The business logic of the service is described as a finite-state machine (FSM) specification. It defines the states of the service and how to transition between them.\n",
       "\n",
       "3. FSM app: The actual business logic is encoded in the FSM app that lives inside each agent. The FSM app is responsible for executing the service's functionality.\n",
       "\n",
       "4. Composability, extensibility, and reusability: Open autonomy emphasizes the advantages of composability, extensibility, and reusability, allowing developers to build on existing components and create new services by combining them.\n",
       "\n",
       "5. Decentralization: Open autonomy is decentralized, meaning that the agent services and the ecosystem surrounding them operate in a decentralized manner. This includes decentralized governance, reward systems for developers and operators, and the ability to vote on network parameters.\n",
       "\n",
       "6. Communication between agents: Agents communicate with each other using different forms of communication depending on the service status. Before the agents can establish a temporary blockchain (Tendermint network) that serves as a consensus mechanism.\n",
       "\n",
       "Source: [Open Autonomy Documentation](https://github.com/valory-xyz/docs/blob/67f4e7878dc7094ab472b422ecc6af982f7c0246/open-autonomy/docs/index.md)"
      ],
      "text/plain": [
       "<IPython.core.display.Markdown object>"
      ]
     },
     "execution_count": 9,
     "metadata": {},
     "output_type": "execute_result"
    }
   ],
   "source": [
    "res, mem_id = get_answer(\"what are the key concepts of open autonomy\")\n",
    "\n",
    "Markdown(res)"
   ]
  },
  {
   "cell_type": "markdown",
   "metadata": {},
   "source": [
    "### Chat using memory"
   ]
  },
  {
   "cell_type": "code",
   "execution_count": 11,
   "metadata": {},
   "outputs": [
    {
     "name": "stdout",
     "output_type": "stream",
     "text": [
      "Request sent. Waiting for response...\n",
      "Waiting for response...\n",
      "Waiting for response...\n",
      "Waiting for response...\n",
      "Waiting for response...\n"
     ]
    },
    {
     "data": {
      "text/markdown": [
       "The description of the business logic of the service in point two is to describe the service's business logic as a finite-state machine (FSM) in a language understood by the framework. This specification defines the states of the service and how to transition from one state to another based on observed events."
      ],
      "text/plain": [
       "<IPython.core.display.Markdown object>"
      ]
     },
     "execution_count": 11,
     "metadata": {},
     "output_type": "execute_result"
    }
   ],
   "source": [
    "res, mem_id = get_answer(\"could you explain point two\", mem_id)\n",
    "\n",
    "Markdown(res)"
   ]
  },
  {
   "cell_type": "code",
   "execution_count": null,
   "metadata": {},
   "outputs": [],
   "source": []
  }
 ],
 "metadata": {
  "kernelspec": {
   "display_name": "openautonomy",
   "language": "python",
   "name": "python3"
  },
  "language_info": {
   "codemirror_mode": {
    "name": "ipython",
    "version": 3
   },
   "file_extension": ".py",
   "mimetype": "text/x-python",
   "name": "python",
   "nbconvert_exporter": "python",
   "pygments_lexer": "ipython3",
   "version": "3.10.12"
  },
  "orig_nbformat": 4
 },
 "nbformat": 4,
 "nbformat_minor": 2
}
