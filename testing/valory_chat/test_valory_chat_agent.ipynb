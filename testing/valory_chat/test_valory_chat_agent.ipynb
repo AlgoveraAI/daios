{
 "cells": [
  {
   "cell_type": "code",
   "execution_count": 1,
   "metadata": {},
   "outputs": [],
   "source": [
    "import json\n",
    "import time\n",
    "import uuid\n",
    "import requests\n",
    "from IPython.display import display, Markdown"
   ]
  },
  {
   "cell_type": "markdown",
   "metadata": {},
   "source": [
    "## Test embedding, chat"
   ]
  },
  {
   "cell_type": "code",
   "execution_count": 2,
   "metadata": {},
   "outputs": [],
   "source": [
    "import requests\n",
    "import time\n",
    "import uuid\n",
    "\n",
    "def get_answer(question, mem_id=None):\n",
    "    id_ = uuid.uuid4().hex\n",
    "    if not mem_id:\n",
    "        payload = {\n",
    "            \"id\": id_,\n",
    "            \"question\": question,\n",
    "        }\n",
    "    else:\n",
    "        payload = {\n",
    "            \"id\": id_,\n",
    "            \"question\": question,\n",
    "            \"memory_id\": mem_id,\n",
    "        }\n",
    "\n",
    "    url = \"http://localhost:8000/chat\"\n",
    "    r = requests.post(url, json=payload)\n",
    "    r.raise_for_status()\n",
    "    r = r.json()\n",
    "    mem_id = r[\"memory_id\"]\n",
    "    print(\"Request sent. Waiting for response...\")\n",
    "    time.sleep(10)\n",
    "\n",
    "    num_retries = 0\n",
    "    while True:\n",
    "        try:\n",
    "            url = f\"http://localhost:8000/get/{id_}\"\n",
    "            r = requests.get(url)\n",
    "            try:\n",
    "                r.raise_for_status()\n",
    "                r = r.json()\n",
    "                if r[0][\"processed\"]:\n",
    "                    break\n",
    "                print(\"Waiting for response...\")\n",
    "                time.sleep(3)\n",
    "            except requests.exceptions.HTTPError as e:\n",
    "                if num_retries > 5:\n",
    "                    raise e\n",
    "                print(f\"Retrying... {num_retries+1}\")\n",
    "                num_retries += 1\n",
    "                time.sleep(10)     \n",
    "        except Exception as e:\n",
    "            print(e)\n",
    "            if num_retries > 5:\n",
    "                raise e\n",
    "            print(f\"Retrying... {num_retries+1}\")   \n",
    "\n",
    "    return r[0][\"response\"], mem_id\n"
   ]
  },
  {
   "cell_type": "markdown",
   "metadata": {},
   "source": [
    "##### Embedding"
   ]
  },
  {
   "cell_type": "code",
   "execution_count": 3,
   "metadata": {},
   "outputs": [
    {
     "data": {
      "text/plain": [
       "{'ok': True, 'message': 'Embedding request received'}"
      ]
     },
     "execution_count": 3,
     "metadata": {},
     "output_type": "execute_result"
    }
   ],
   "source": [
    "\n",
    "url = \"http://localhost:8000/embedding\"\n",
    "r = requests.post(url, json={\"admin_password\": \"valory_algover\"})\n",
    "r.raise_for_status()\n",
    "r.json()"
   ]
  },
  {
   "cell_type": "markdown",
   "metadata": {},
   "source": [
    "##### chat"
   ]
  },
  {
   "cell_type": "code",
   "execution_count": 4,
   "metadata": {},
   "outputs": [
    {
     "name": "stdout",
     "output_type": "stream",
     "text": [
      "Request sent. Waiting for response...\n",
      "Waiting for response...\n",
      "Waiting for response...\n",
      "Waiting for response...\n",
      "Waiting for response...\n",
      "Waiting for response...\n",
      "Waiting for response...\n"
     ]
    },
    {
     "data": {
      "text/markdown": [
       "Based on the provided context, Open Autonomy is a framework for the creation of agent services. These agent services are off-chain autonomous services that run as a multi-agent system (MAS) and offer enhanced functionalities on-chain. They expand the range of operations that traditional smart contracts provide, allowing for the execution of arbitrarily complex operations. The key characteristics of agent services are that they are decentralized, trust-minimized, transparent, and robust. Open Autonomy provides command line tools and base packages to build, deploy, publish, and test these agent services. It aims to speed up the development life cycle of autonomous services and provides an ecosystem with an SDK, reward system for developers and operators, and a governance protocol."
      ],
      "text/plain": [
       "<IPython.core.display.Markdown object>"
      ]
     },
     "execution_count": 4,
     "metadata": {},
     "output_type": "execute_result"
    }
   ],
   "source": [
    "res, mem_id = get_answer(\"what is open autonomy\")\n",
    "\n",
    "Markdown(res)"
   ]
  },
  {
   "cell_type": "code",
   "execution_count": 5,
   "metadata": {},
   "outputs": [
    {
     "name": "stdout",
     "output_type": "stream",
     "text": [
      "Request sent. Waiting for response...\n",
      "Waiting for response...\n",
      "Waiting for response...\n",
      "Waiting for response...\n",
      "Waiting for response...\n",
      "Waiting for response...\n"
     ]
    },
    {
     "data": {
      "text/markdown": [
       "Based on the given context, an agent service is a decentralized off-chain service that runs as a multi-agent system. It is composed of multiple agents that implement different functionalities and is owned by an operator who manages the infrastructure where the agents are run. The agent service uses a consensus gadget to synchronize the service state and reach consensus. It is crypto-economically secured on a public blockchain and is designed to be decentralized, trust-minimized, transparent, and robust. Agent services enable complex processing, can take action on their own, and run continuously. They can have proactive behaviors and execute off-chain logic without giving up decentralization. Examples of agent services include triggering specific actions on external events or executing machine learning models."
      ],
      "text/plain": [
       "<IPython.core.display.Markdown object>"
      ]
     },
     "execution_count": 5,
     "metadata": {},
     "output_type": "execute_result"
    }
   ],
   "source": [
    "res, mem_id = get_answer(\"What is an agent service\")\n",
    "\n",
    "Markdown(res)"
   ]
  },
  {
   "cell_type": "code",
   "execution_count": 8,
   "metadata": {},
   "outputs": [
    {
     "name": "stdout",
     "output_type": "stream",
     "text": [
      "Request sent. Waiting for response...\n",
      "Waiting for response...\n",
      "Waiting for response...\n",
      "Waiting for response...\n",
      "Waiting for response...\n",
      "Waiting for response...\n",
      "Waiting for response...\n",
      "Waiting for response...\n",
      "Waiting for response...\n",
      "Waiting for response...\n",
      "Waiting for response...\n",
      "Waiting for response...\n",
      "Waiting for response...\n",
      "Waiting for response...\n",
      "Waiting for response...\n",
      "Waiting for response...\n",
      "Waiting for response...\n"
     ]
    },
    {
     "data": {
      "text/markdown": [
       "Agent services are needed because they go beyond simple reactive applications like smart contracts and can exhibit complex, proactive behaviors that involve off-chain logic. They can perform actions based on external events and even execute machine learning models. Agent services are decentralized and provide functionalities to objects living on-chain. They are implemented as multi-agent systems and are secured on-chain, allowing them to interact with smart contracts. They are designed to be decentralized, trust-minimized, transparent, and robust."
      ],
      "text/plain": [
       "<IPython.core.display.Markdown object>"
      ]
     },
     "execution_count": 8,
     "metadata": {},
     "output_type": "execute_result"
    }
   ],
   "source": [
    "res, mem_id = get_answer(\"why do we need agent services\")\n",
    "\n",
    "Markdown(res)"
   ]
  },
  {
   "cell_type": "code",
   "execution_count": 6,
   "metadata": {},
   "outputs": [
    {
     "name": "stdout",
     "output_type": "stream",
     "text": [
      "Request sent. Waiting for response...\n",
      "Waiting for response...\n",
      "Waiting for response...\n",
      "Waiting for response...\n",
      "Waiting for response...\n",
      "Waiting for response...\n",
      "Waiting for response...\n",
      "Waiting for response...\n",
      "Waiting for response...\n",
      "Waiting for response...\n"
     ]
    },
    {
     "data": {
      "text/markdown": [
       "The key concepts of Open Autonomy are:\n",
       "\n",
       "1. Agent Services: These are off-chain autonomous services that run as a multi-agent system (MAS) and offer enhanced functionalities on-chain. They expand the range of operations that traditional smart contracts provide and enable the execution of arbitrarily complex operations.\n",
       "\n",
       "2. Finite-State Machine (FSM): The business logic of an agent service is described as a finite-state machine (FSM) specification. This specification defines the states of the service and how to transition from one state to another.\n",
       "\n",
       "3. FSM App: The actual business logic of an agent service is encoded in the FSM App, which resides inside each agent. The FSM App is responsible for executing the logic defined in the FSM specification.\n",
       "\n",
       "4. Composability, Extensibility, and Reusability: Open Autonomy emphasizes the advantages of composability, extensibility, and reusability, which are also present in other tech stacks. However, Open Autonomy differentiates itself by providing a complete ecosystem that includes an SDK, a reward system for developers and operators, and a decentralized governance protocol.\n",
       "\n",
       "5. Communication between Agents: Agents in Open Autonomy communicate with each other using different forms of communication depending on the service status. Before the agents can establish a temporary blockchain (Tendermint network) that serves as consensus.\n",
       "\n",
       "Sources:\n",
       "- https://github.com/valory-xyz/docs/blob/861d773aa9c184668bd4da282c4c4b90fbb0f548/open-autonomy/docs/index.md\n",
       "- https://github.com/valory-xyz/docs/blob/861d773aa9c184668bd4da282c4c4b90fbb0f548/open-autonomy/README.md"
      ],
      "text/plain": [
       "<IPython.core.display.Markdown object>"
      ]
     },
     "execution_count": 6,
     "metadata": {},
     "output_type": "execute_result"
    }
   ],
   "source": [
    "res, mem_id = get_answer(\"what are the key concepts of open autonomy\")\n",
    "\n",
    "Markdown(res)"
   ]
  },
  {
   "cell_type": "markdown",
   "metadata": {},
   "source": [
    "### Chat using memory"
   ]
  },
  {
   "cell_type": "code",
   "execution_count": 7,
   "metadata": {},
   "outputs": [
    {
     "name": "stdout",
     "output_type": "stream",
     "text": [
      "Request sent. Waiting for response...\n",
      "Waiting for response...\n",
      "Waiting for response...\n",
      "Waiting for response...\n",
      "Waiting for response...\n",
      "Waiting for response...\n",
      "Waiting for response...\n"
     ]
    },
    {
     "data": {
      "text/markdown": [
       "In Open Autonomy, a Finite-State Machine (FSM) is used to describe the business logic of an agent service. An FSM is a mathematical model of computation that represents a sequential logic of state transitions. It consists of a finite number of states and events that trigger transitions from one state to another. The transition function governs the rules for transitioning between states based on the current state and received event. In Open Autonomy, the FSM specification defines the states of the service and how to transition between them. The actual business logic is encoded in the FSM App, which resides inside each agent and executes the logic defined in the FSM specification."
      ],
      "text/plain": [
       "<IPython.core.display.Markdown object>"
      ]
     },
     "execution_count": 7,
     "metadata": {},
     "output_type": "execute_result"
    }
   ],
   "source": [
    "res, mem_id = get_answer(\"could you explain point two\", mem_id)\n",
    "\n",
    "Markdown(res)"
   ]
  },
  {
   "cell_type": "code",
   "execution_count": null,
   "metadata": {},
   "outputs": [],
   "source": []
  }
 ],
 "metadata": {
  "kernelspec": {
   "display_name": "openautonomy",
   "language": "python",
   "name": "python3"
  },
  "language_info": {
   "codemirror_mode": {
    "name": "ipython",
    "version": 3
   },
   "file_extension": ".py",
   "mimetype": "text/x-python",
   "name": "python",
   "nbconvert_exporter": "python",
   "pygments_lexer": "ipython3",
   "version": "3.10.11"
  },
  "orig_nbformat": 4
 },
 "nbformat": 4,
 "nbformat_minor": 2
}
