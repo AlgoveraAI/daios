{
 "cells": [
  {
   "cell_type": "code",
   "execution_count": 3,
   "metadata": {},
   "outputs": [],
   "source": [
    "import json\n",
    "import time\n",
    "import uuid\n",
    "import requests\n",
    "from IPython.display import display, Markdown"
   ]
  },
  {
   "cell_type": "markdown",
   "metadata": {},
   "source": [
    "## Test embedding, chat"
   ]
  },
  {
   "cell_type": "code",
   "execution_count": 4,
   "metadata": {},
   "outputs": [],
   "source": [
    "import requests\n",
    "import time\n",
    "import uuid\n",
    "\n",
    "def get_answer(question, mem_id=None):\n",
    "    id_ = uuid.uuid4().hex\n",
    "    if not mem_id:\n",
    "        payload = {\n",
    "            \"id\": id_,\n",
    "            \"question\": question,\n",
    "        }\n",
    "    else:\n",
    "        payload = {\n",
    "            \"id\": id_,\n",
    "            \"question\": question,\n",
    "            \"memory_id\": mem_id,\n",
    "        }\n",
    "\n",
    "    url = \"http://localhost:8000/chat\"\n",
    "    r = requests.post(url, json=payload)\n",
    "    r.raise_for_status()\n",
    "    r = r.json()\n",
    "    mem_id = r[\"memory_id\"]\n",
    "    print(\"Request sent. Waiting for response...\")\n",
    "    time.sleep(10)\n",
    "\n",
    "    num_retries = 0\n",
    "    while True:\n",
    "        try:\n",
    "            url = f\"http://localhost:8000/get/{id_}\"\n",
    "            r = requests.get(url)\n",
    "            try:\n",
    "                r.raise_for_status()\n",
    "                r = r.json()\n",
    "                if r[0][\"processed\"]:\n",
    "                    break\n",
    "                print(\"Waiting for response...\")\n",
    "                time.sleep(3)\n",
    "            except requests.exceptions.HTTPError as e:\n",
    "                if num_retries > 5:\n",
    "                    raise e\n",
    "                print(f\"Retrying... {num_retries+1}\")\n",
    "                num_retries += 1\n",
    "                time.sleep(10)     \n",
    "        except Exception as e:\n",
    "            print(e)\n",
    "            if num_retries > 5:\n",
    "                raise e\n",
    "            print(f\"Retrying... {num_retries+1}\")   \n",
    "\n",
    "    return r[0][\"response\"], mem_id\n"
   ]
  },
  {
   "cell_type": "markdown",
   "metadata": {},
   "source": [
    "##### Embedding"
   ]
  },
  {
   "cell_type": "code",
   "execution_count": 8,
   "metadata": {},
   "outputs": [
    {
     "data": {
      "text/plain": [
       "{'ok': True, 'message': 'Embedding request received'}"
      ]
     },
     "execution_count": 8,
     "metadata": {},
     "output_type": "execute_result"
    }
   ],
   "source": [
    "\n",
    "url = \"http://localhost:8000/embedding\"\n",
    "r = requests.post(url, json={\"admin_password\": \"valory_algover\"})\n",
    "r.raise_for_status()\n",
    "r.json()"
   ]
  },
  {
   "cell_type": "markdown",
   "metadata": {},
   "source": [
    "##### chat"
   ]
  },
  {
   "cell_type": "code",
   "execution_count": 9,
   "metadata": {},
   "outputs": [
    {
     "name": "stdout",
     "output_type": "stream",
     "text": [
      "Request sent. Waiting for response...\n"
     ]
    },
    {
     "name": "stdout",
     "output_type": "stream",
     "text": [
      "Waiting for response...\n",
      "Waiting for response...\n",
      "Waiting for response...\n",
      "Waiting for response...\n",
      "Waiting for response...\n",
      "Waiting for response...\n"
     ]
    },
    {
     "data": {
      "text/markdown": [
       "The Open Autonomy framework is a framework for the creation of agent services. These agent services are off-chain autonomous services that run as a multi-agent system and offer enhanced functionalities on-chain. They expand the range of operations that traditional smart contracts offer, allowing for the execution of arbitrarily complex operations. The framework provides command line tools and base packages to build, deploy, publish, and test agent services. It is designed to speed up the development life cycle of autonomous services."
      ],
      "text/plain": [
       "<IPython.core.display.Markdown object>"
      ]
     },
     "execution_count": 9,
     "metadata": {},
     "output_type": "execute_result"
    }
   ],
   "source": [
    "res, mem_id = get_answer(\"what is open autonomy\")\n",
    "\n",
    "Markdown(res)"
   ]
  },
  {
   "cell_type": "code",
   "execution_count": 10,
   "metadata": {},
   "outputs": [
    {
     "name": "stdout",
     "output_type": "stream",
     "text": [
      "Request sent. Waiting for response...\n"
     ]
    },
    {
     "name": "stdout",
     "output_type": "stream",
     "text": [
      "Waiting for response...\n",
      "Waiting for response...\n",
      "Waiting for response...\n",
      "Waiting for response...\n",
      "Waiting for response...\n",
      "Waiting for response...\n"
     ]
    },
    {
     "data": {
      "text/markdown": [
       "Agent services are decentralized off-chain services that run as multi-agent systems and are secured on a public blockchain. They enable complex processing, take action autonomously, and run continuously. Agent services are crypto-native, meaning they are decentralized, trust-minimized, transparent, and robust. They are composed of multiple agents and are managed by operators. The internal state of an agent service is replicated across all agents through a consensus gadget. Agent services go beyond simple reactive applications and can exhibit complex proactive behaviors. They differ from smart contracts, web services, and custom decentralized services in various ways."
      ],
      "text/plain": [
       "<IPython.core.display.Markdown object>"
      ]
     },
     "execution_count": 10,
     "metadata": {},
     "output_type": "execute_result"
    }
   ],
   "source": [
    "res, mem_id = get_answer(\"What is an agent service\")\n",
    "\n",
    "Markdown(res)"
   ]
  },
  {
   "cell_type": "code",
   "execution_count": 11,
   "metadata": {},
   "outputs": [
    {
     "name": "stdout",
     "output_type": "stream",
     "text": [
      "Request sent. Waiting for response...\n",
      "Waiting for response...\n",
      "Waiting for response...\n",
      "Waiting for response...\n",
      "Waiting for response...\n",
      "Waiting for response...\n",
      "Waiting for response...\n",
      "Waiting for response...\n",
      "Waiting for response...\n"
     ]
    },
    {
     "data": {
      "text/markdown": [
       "Based on the provided context, agent services are needed because they go beyond simple reactive applications like smart contracts and can exhibit complex and proactive behaviors. They can interact with external events, execute machine learning models, and provide functionalities to objects living on-chain. Agent services are decentralized, trust-minimized, transparent, and robust, and they are secured on-chain and can interact with smart contracts. They are implemented as multi-agent systems and are designed to run off-chain. Agent services are considered a type of autonomous service and are used for various purposes such as acting as decentralized oracles for smart contracts or executing complex investing strategies."
      ],
      "text/plain": [
       "<IPython.core.display.Markdown object>"
      ]
     },
     "execution_count": 11,
     "metadata": {},
     "output_type": "execute_result"
    }
   ],
   "source": [
    "res, mem_id = get_answer(\"why do we need agent services\")\n",
    "\n",
    "Markdown(res)"
   ]
  },
  {
   "cell_type": "code",
   "execution_count": 13,
   "metadata": {},
   "outputs": [
    {
     "name": "stdout",
     "output_type": "stream",
     "text": [
      "Request sent. Waiting for response...\n",
      "Waiting for response...\n",
      "Waiting for response...\n",
      "Waiting for response...\n",
      "Waiting for response...\n",
      "Waiting for response...\n",
      "Waiting for response...\n",
      "Waiting for response...\n"
     ]
    },
    {
     "data": {
      "text/markdown": [
       "The key concepts of Open Autonomy are:\n",
       "\n",
       "1. Agent Services: Open Autonomy is a framework for the creation of agent services. These are off-chain autonomous services that run as a multi-agent system (MAS) and offer enhanced functionalities on-chain.\n",
       "\n",
       "2. Decentralization: Agent services in Open Autonomy are decentralized, meaning they operate without a central authority or control.\n",
       "\n",
       "3. Finite-State Machine (FSM): The business logic of an agent service is described as a finite-state machine (FSM) specification. This specification defines the states of the service and how it transitions from one state to another.\n",
       "\n",
       "4. Composability, Extensibility, and Reusability: Open Autonomy emphasizes the ability to compose, extend, and reuse components within the framework, allowing for flexible and modular development.\n",
       "\n",
       "5. Communication: Agents in Open Autonomy communicate with each other using different forms of communication depending on the service status. They can establish a temporary blockchain (Tendermint network) for consensus.\n",
       "\n",
       "Overall, Open Autonomy aims to provide a framework for the development of decentralized agent services with complex functionalities, offering composability, extensibility, and reusability."
      ],
      "text/plain": [
       "<IPython.core.display.Markdown object>"
      ]
     },
     "execution_count": 13,
     "metadata": {},
     "output_type": "execute_result"
    }
   ],
   "source": [
    "res, mem_id = get_answer(\"what are the key concepts of open autonomy\")\n",
    "\n",
    "Markdown(res)"
   ]
  },
  {
   "cell_type": "markdown",
   "metadata": {},
   "source": [
    "### Chat using memory"
   ]
  },
  {
   "cell_type": "code",
   "execution_count": 14,
   "metadata": {},
   "outputs": [
    {
     "name": "stdout",
     "output_type": "stream",
     "text": [
      "Request sent. Waiting for response...\n",
      "Waiting for response...\n",
      "Waiting for response...\n",
      "Waiting for response...\n",
      "Waiting for response...\n",
      "Waiting for response...\n",
      "Waiting for response...\n",
      "Waiting for response...\n"
     ]
    },
    {
     "data": {
      "text/markdown": [
       "Decentralization in the context of Open Autonomy means that the agent services built on the framework operate without a central authority or control. This means that there is no single entity or governing body that has complete control over the operation and decision-making of the agent services. Instead, the network parameters and governance protocols are voted on by the participants in the network. This decentralized approach allows for a more transparent and autonomous system where developers, operators, and users are all compensated for their work and have a say in the decision-making process."
      ],
      "text/plain": [
       "<IPython.core.display.Markdown object>"
      ]
     },
     "execution_count": 14,
     "metadata": {},
     "output_type": "execute_result"
    }
   ],
   "source": [
    "res, mem_id = get_answer(\"could you explain point two\", mem_id)\n",
    "\n",
    "Markdown(res)"
   ]
  },
  {
   "cell_type": "code",
   "execution_count": null,
   "metadata": {},
   "outputs": [],
   "source": []
  }
 ],
 "metadata": {
  "kernelspec": {
   "display_name": "openautonomy",
   "language": "python",
   "name": "python3"
  },
  "language_info": {
   "codemirror_mode": {
    "name": "ipython",
    "version": 3
   },
   "file_extension": ".py",
   "mimetype": "text/x-python",
   "name": "python",
   "nbconvert_exporter": "python",
   "pygments_lexer": "ipython3",
   "version": "3.10.12"
  },
  "orig_nbformat": 4
 },
 "nbformat": 4,
 "nbformat_minor": 2
}
