{
 "cells": [
  {
   "cell_type": "code",
   "execution_count": 1,
   "metadata": {},
   "outputs": [],
   "source": [
    "import json\n",
    "import uuid\n",
    "import requests"
   ]
  },
  {
   "cell_type": "markdown",
   "metadata": {},
   "source": [
    "## Test embedding, context, chat completion"
   ]
  },
  {
   "cell_type": "markdown",
   "metadata": {},
   "source": [
    "##### Test chat_completion"
   ]
  },
  {
   "cell_type": "code",
   "execution_count": 30,
   "metadata": {},
   "outputs": [
    {
     "data": {
      "text/plain": [
       "{'id': '276875220e0543cc924f2e6ef0a84d76'}"
      ]
     },
     "execution_count": 30,
     "metadata": {},
     "output_type": "execute_result"
    }
   ],
   "source": [
    "# Make chat_completion call\n",
    "id_ = uuid.uuid4().hex\n",
    "payload = {\n",
    "    \"id\": id_,\n",
    "    \"system_message\": \"You are a helpful assistant that translates English to French.\",\n",
    "    \"user_message\": \"Translate this sentence from English to French. I love programming.\",\n",
    "}\n",
    "\n",
    "url = \"http://localhost:8000/chat_completion\"\n",
    "r = requests.post(url, json=payload)\n",
    "r.raise_for_status()\n",
    "r.json()"
   ]
  },
  {
   "cell_type": "code",
   "execution_count": 31,
   "metadata": {},
   "outputs": [
    {
     "data": {
      "text/plain": [
       "[{'id': '276875220e0543cc924f2e6ef0a84d76',\n",
       "  'system_message': 'You are a helpful assistant that translates English to French.',\n",
       "  'user_message': 'Translate this sentence from English to French. I love programming.',\n",
       "  'response': \"J'adore la programmation.\",\n",
       "  'request_type': 'chat_completion',\n",
       "  'request_time': '1690970496.4620683',\n",
       "  'response_time': '1690970499.4084291',\n",
       "  'processed': True,\n",
       "  'processor': '0x15d34AAf54267DB7D7c367839AAf71A00a2C6A65',\n",
       "  'error': False,\n",
       "  'error_message': None,\n",
       "  'error_name': None}]"
      ]
     },
     "execution_count": 31,
     "metadata": {},
     "output_type": "execute_result"
    }
   ],
   "source": [
    "# retrieve the response from the server\n",
    "\n",
    "get_url = f\"http://localhost:8000/get/{id_}\"\n",
    "\n",
    "r = requests.get(get_url)\n",
    "r = r.json(); r"
   ]
  },
  {
   "cell_type": "code",
   "execution_count": 32,
   "metadata": {},
   "outputs": [],
   "source": [
    "# Make multiple calls\n",
    "\n",
    "ids = []\n",
    "system_messages = [\n",
    "    \"You are a helpful assistant that translates English to French.\",\n",
    "    \"You are a helpful assistant that translates English to Italian.\",\n",
    "    \"You are a helpful assistant that translates English to Spanish.\",\n",
    "    \"You are a helpful assistant that translates English to German.\",\n",
    "    \"You are a helpful assistant that translates English to Russian.\",\n",
    "]\n",
    "\n",
    "user_messages = [\n",
    "    \"Translate this sentence from English to French. I love programming.\",\n",
    "    \"Translate this sentence from English to Italian. I love programming.\",\n",
    "    \"Translate this sentence from English to Spanish. I love programming.\",\n",
    "    \"Translate this sentence from English to German. I love programming.\",\n",
    "    \"Translate this sentence from English to Russian. I love programming.\",\n",
    "]\n",
    "request_responses = []\n",
    "for i in range(5):\n",
    "    id_ = uuid.uuid4().hex\n",
    "    payload = {\n",
    "        \"id\": id_,\n",
    "        \"system_message\": system_messages[i],\n",
    "        \"user_message\": user_messages[i],\n",
    "    }\n",
    "    ids.append(id_)\n",
    "    url = \"http://localhost:8000/chat_completion\"\n",
    "    r = requests.post(url, json=payload)\n",
    "    request_responses.append(r)"
   ]
  },
  {
   "cell_type": "code",
   "execution_count": 34,
   "metadata": {},
   "outputs": [
    {
     "name": "stdout",
     "output_type": "stream",
     "text": [
      "[{'id': 'a1be97dc96d14186b31c5d6a2d970fae', 'system_message': 'You are a helpful assistant that translates English to French.', 'user_message': 'Translate this sentence from English to French. I love programming.', 'response': \"J'adore programmer.\", 'request_type': 'chat_completion', 'request_time': '1690970526.734558', 'response_time': '1690970530.0207334', 'processed': True, 'processor': '0x15d34AAf54267DB7D7c367839AAf71A00a2C6A65', 'error': False, 'error_message': None, 'error_name': None}]\n",
      "[{'id': 'f292ec71bcc24f04bf714465a5077703', 'system_message': 'You are a helpful assistant that translates English to Italian.', 'user_message': 'Translate this sentence from English to Italian. I love programming.', 'response': 'Amo programmare.', 'request_type': 'chat_completion', 'request_time': '1690970526.7467668', 'response_time': '1690970534.100079', 'processed': True, 'processor': '0x15d34AAf54267DB7D7c367839AAf71A00a2C6A65', 'error': False, 'error_message': None, 'error_name': None}]\n",
      "[{'id': 'fc98a59bde814b3ab2d930838f64cb70', 'system_message': 'You are a helpful assistant that translates English to Spanish.', 'user_message': 'Translate this sentence from English to Spanish. I love programming.', 'response': 'Amo programar.', 'request_type': 'chat_completion', 'request_time': '1690970526.75629', 'response_time': '1690970538.1617346', 'processed': True, 'processor': '0x15d34AAf54267DB7D7c367839AAf71A00a2C6A65', 'error': False, 'error_message': None, 'error_name': None}]\n",
      "[{'id': '7d63f800ac224ba7a575b02d0357314b', 'system_message': 'You are a helpful assistant that translates English to German.', 'user_message': 'Translate this sentence from English to German. I love programming.', 'response': 'Ich liebe das Programmieren.', 'request_type': 'chat_completion', 'request_time': '1690970526.7680128', 'response_time': '1690970542.0410051', 'processed': True, 'processor': '0x15d34AAf54267DB7D7c367839AAf71A00a2C6A65', 'error': False, 'error_message': None, 'error_name': None}]\n",
      "[{'id': 'f0362a316a4f4fa2b7408dbe9d59b1a9', 'system_message': 'You are a helpful assistant that translates English to Russian.', 'user_message': 'Translate this sentence from English to Russian. I love programming.', 'response': 'Я люблю программирование.', 'request_type': 'chat_completion', 'request_time': '1690970526.7867434', 'response_time': '1690970545.4076161', 'processed': True, 'processor': '0x15d34AAf54267DB7D7c367839AAf71A00a2C6A65', 'error': False, 'error_message': None, 'error_name': None}]\n"
     ]
    }
   ],
   "source": [
    "# retrieve multiple responses from the server\n",
    "\n",
    "for id_, r in zip(ids, request_responses):\n",
    "    get_url = f\"http://localhost:8000/get/{id_}\"\n",
    "    r = requests.get(get_url)\n",
    "    print(r.json())"
   ]
  },
  {
   "cell_type": "markdown",
   "metadata": {},
   "source": [
    "##### Embedding"
   ]
  },
  {
   "cell_type": "code",
   "execution_count": 35,
   "metadata": {},
   "outputs": [
    {
     "data": {
      "text/plain": [
       "{'id': 'b19b850793774c8785c5ee916946b778'}"
      ]
     },
     "execution_count": 35,
     "metadata": {},
     "output_type": "execute_result"
    }
   ],
   "source": [
    "# Upload a file to create an embedding.\n",
    "# NOTE: For pdf files, you need to parse locally and upload the text file.\n",
    "\n",
    "emb_id_ = uuid.uuid4().hex\n",
    "payload = {\n",
    "    \"id\": emb_id_,\n",
    "    # \"system_message\": \"You are a helpful assistant that translates English to French.\",\n",
    "    # \"user_message\": \"Translate this sentence from English to French. I love programming.\",\n",
    "}\n",
    "\n",
    "# Add a file\n",
    "file = open(\"../../README.md\", \"rb\")\n",
    "files = {\"file\": file}\n",
    "\n",
    "url = \"http://localhost:8000/embedding\"\n",
    "r = requests.post(url, files=files, data={\"data\":json.dumps(payload)})\n",
    "r.raise_for_status()\n",
    "r.json()"
   ]
  },
  {
   "cell_type": "markdown",
   "metadata": {},
   "source": [
    "##### chat"
   ]
  },
  {
   "cell_type": "code",
   "execution_count": 36,
   "metadata": {},
   "outputs": [],
   "source": [
    "# Chatting over the embedding above. Since no `memory_id` is provided, the agent will assume this is a new conversation\n",
    "id_ = uuid.uuid4().hex\n",
    "payload = {\n",
    "    \"id\": id_,\n",
    "    \"context_id\": emb_id_, # Is the same as the id when making the embedding\n",
    "    \"question\": \"What is daios?\",\n",
    "}\n",
    "\n",
    "url = \"http://localhost:8000/chat\"\n",
    "r = requests.post(url, json=payload)\n",
    "r.raise_for_status()\n",
    "r = r.json()\n",
    "mem_id = r[\"memory_id\"]\n"
   ]
  },
  {
   "cell_type": "code",
   "execution_count": 37,
   "metadata": {},
   "outputs": [
    {
     "data": {
      "text/plain": [
       "[{'id': '10467ca444a24624ba32ae9fe156d81b',\n",
       "  'context_id': 'b19b850793774c8785c5ee916946b778',\n",
       "  'memory_id': '5d89536018fc4968b9b61c0cb6cd56ed',\n",
       "  'question': 'What is daios?',\n",
       "  'modified_question': None,\n",
       "  'response': 'Based on the context provided, DAIOS refers to the Decentralized AI Operating System. It is an extension of the Open AEA (Agent Environment Architecture) framework developed by Valory. The DAIOS framework aims to build a decentralized operating system for artificial intelligence, integrating blockchain, messaging, and other technologies.',\n",
       "  'chat_history': [{'role': 'user', 'content': 'What is daios?'},\n",
       "   {'role': 'assistant',\n",
       "    'content': 'Based on the context provided, DAIOS refers to the Decentralized AI Operating System. It is an extension of the Open AEA (Agent Environment Architecture) framework developed by Valory. The DAIOS framework aims to build a decentralized operating system for artificial intelligence, integrating blockchain, messaging, and other technologies.'}],\n",
       "  'request_time': '1690970621.1658242',\n",
       "  'response_time': '1690970629.364684',\n",
       "  'request_type': 'chat',\n",
       "  'processed': True,\n",
       "  'processor': '0x15d34AAf54267DB7D7c367839AAf71A00a2C6A65',\n",
       "  'error': False,\n",
       "  'error_message': None,\n",
       "  'error_name': None}]"
      ]
     },
     "execution_count": 37,
     "metadata": {},
     "output_type": "execute_result"
    }
   ],
   "source": [
    "get_url = f\"http://localhost:8000/get/{id_}\"\n",
    "\n",
    "r = requests.get(get_url)\n",
    "r.raise_for_status()\n",
    "r = r.json(); r"
   ]
  },
  {
   "cell_type": "code",
   "execution_count": 38,
   "metadata": {},
   "outputs": [
    {
     "data": {
      "text/plain": [
       "{'id': '877130f8a6da42ec99b6d19093b39c9c',\n",
       " 'memory_id': '5d89536018fc4968b9b61c0cb6cd56ed'}"
      ]
     },
     "execution_count": 38,
     "metadata": {},
     "output_type": "execute_result"
    }
   ],
   "source": [
    "# since a `memory_id` is provided, the agent will use the memory to generate a follow-up response\n",
    "id_ = uuid.uuid4().hex\n",
    "payload = {\n",
    "    \"id\": id_,\n",
    "    \"context_id\": emb_id_,\n",
    "    \"memory_id\": mem_id,\n",
    "    \"question\": \"does it provide a platform?\",\n",
    "}\n",
    "\n",
    "url = \"http://localhost:8000/chat\"\n",
    "r = requests.post(url, json=payload)\n",
    "r.raise_for_status()\n",
    "r.json()"
   ]
  },
  {
   "cell_type": "code",
   "execution_count": 39,
   "metadata": {},
   "outputs": [
    {
     "data": {
      "text/plain": [
       "[{'id': '877130f8a6da42ec99b6d19093b39c9c',\n",
       "  'context_id': 'b19b850793774c8785c5ee916946b778',\n",
       "  'memory_id': '5d89536018fc4968b9b61c0cb6cd56ed',\n",
       "  'question': 'does it provide a platform?',\n",
       "  'modified_question': 'Does the DAIOS framework provide a platform?',\n",
       "  'response': 'Yes, the DAIOS framework aims to provide a platform for building a Decentralized AI Operating System.',\n",
       "  'chat_history': [{'role': 'user', 'content': 'What is daios?'},\n",
       "   {'role': 'assistant',\n",
       "    'content': 'Based on the context provided, DAIOS refers to the Decentralized AI Operating System. It is an extension of the Open AEA (Agent Environment Architecture) framework developed by Valory. The DAIOS framework aims to build a decentralized operating system for artificial intelligence, integrating blockchain, messaging, and other technologies.'},\n",
       "   {'role': 'user', 'content': 'Does the DAIOS framework provide a platform?'},\n",
       "   {'role': 'assistant',\n",
       "    'content': 'Yes, the DAIOS framework aims to provide a platform for building a Decentralized AI Operating System.'}],\n",
       "  'request_time': '1690970679.759187',\n",
       "  'response_time': '1690970691.7559025',\n",
       "  'request_type': 'chat',\n",
       "  'processed': True,\n",
       "  'processor': '0x15d34AAf54267DB7D7c367839AAf71A00a2C6A65',\n",
       "  'error': False,\n",
       "  'error_message': None,\n",
       "  'error_name': None}]"
      ]
     },
     "execution_count": 39,
     "metadata": {},
     "output_type": "execute_result"
    }
   ],
   "source": [
    "get_url = f\"http://localhost:8000/get/{id_}\"\n",
    "\n",
    "r = requests.get(get_url)\n",
    "r = r.json()\n",
    "r"
   ]
  },
  {
   "cell_type": "markdown",
   "metadata": {},
   "source": [
    "##### Bad requests are handled within the http_server"
   ]
  },
  {
   "cell_type": "code",
   "execution_count": 40,
   "metadata": {},
   "outputs": [
    {
     "ename": "HTTPError",
     "evalue": "400 Client Error: context_id bf68b34c19964a73ba03c9779ef70fa9 does not exist for url: http://localhost:8000/chat",
     "output_type": "error",
     "traceback": [
      "\u001b[0;31m---------------------------------------------------------------------------\u001b[0m",
      "\u001b[0;31mHTTPError\u001b[0m                                 Traceback (most recent call last)",
      "Cell \u001b[0;32mIn[40], line 12\u001b[0m\n\u001b[1;32m     10\u001b[0m url \u001b[39m=\u001b[39m \u001b[39m\"\u001b[39m\u001b[39mhttp://localhost:8000/chat\u001b[39m\u001b[39m\"\u001b[39m\n\u001b[1;32m     11\u001b[0m r \u001b[39m=\u001b[39m requests\u001b[39m.\u001b[39mpost(url, json\u001b[39m=\u001b[39mpayload)\n\u001b[0;32m---> 12\u001b[0m r\u001b[39m.\u001b[39;49mraise_for_status()\n\u001b[1;32m     13\u001b[0m \u001b[39mprint\u001b[39m(r\u001b[39m.\u001b[39mstatus_code)\n",
      "File \u001b[0;32m~/anaconda3/envs/testoa/lib/python3.10/site-packages/requests/models.py:1021\u001b[0m, in \u001b[0;36mResponse.raise_for_status\u001b[0;34m(self)\u001b[0m\n\u001b[1;32m   1016\u001b[0m     http_error_msg \u001b[39m=\u001b[39m (\n\u001b[1;32m   1017\u001b[0m         \u001b[39mf\u001b[39m\u001b[39m\"\u001b[39m\u001b[39m{\u001b[39;00m\u001b[39mself\u001b[39m\u001b[39m.\u001b[39mstatus_code\u001b[39m}\u001b[39;00m\u001b[39m Server Error: \u001b[39m\u001b[39m{\u001b[39;00mreason\u001b[39m}\u001b[39;00m\u001b[39m for url: \u001b[39m\u001b[39m{\u001b[39;00m\u001b[39mself\u001b[39m\u001b[39m.\u001b[39murl\u001b[39m}\u001b[39;00m\u001b[39m\"\u001b[39m\n\u001b[1;32m   1018\u001b[0m     )\n\u001b[1;32m   1020\u001b[0m \u001b[39mif\u001b[39;00m http_error_msg:\n\u001b[0;32m-> 1021\u001b[0m     \u001b[39mraise\u001b[39;00m HTTPError(http_error_msg, response\u001b[39m=\u001b[39m\u001b[39mself\u001b[39m)\n",
      "\u001b[0;31mHTTPError\u001b[0m: 400 Client Error: context_id bf68b34c19964a73ba03c9779ef70fa9 does not exist for url: http://localhost:8000/chat"
     ]
    }
   ],
   "source": [
    "# non-existent memory\n",
    "id_ = uuid.uuid4().hex\n",
    "payload = {\n",
    "    \"id\": id_,\n",
    "    \"context_id\": \"bf68b34c19964a73ba03c9779ef70fa9\",\n",
    "    \"memory_id\": \"87b9426ab1f84ad689e0eb29e350db83\",\n",
    "    \"question\": \"What is daios?\",\n",
    "}\n",
    "\n",
    "url = \"http://localhost:8000/chat\"\n",
    "r = requests.post(url, json=payload)\n",
    "r.raise_for_status()\n",
    "print(r.status_code)\n"
   ]
  },
  {
   "cell_type": "code",
   "execution_count": 13,
   "metadata": {},
   "outputs": [
    {
     "ename": "HTTPError",
     "evalue": "400 Client Error: context_id bf68b34c19964a73ba03c9779ef70fa9 does not exist for url: http://localhost:8000/chat",
     "output_type": "error",
     "traceback": [
      "\u001b[0;31m---------------------------------------------------------------------------\u001b[0m",
      "\u001b[0;31mHTTPError\u001b[0m                                 Traceback (most recent call last)",
      "Cell \u001b[0;32mIn[13], line 11\u001b[0m\n\u001b[1;32m      9\u001b[0m url \u001b[39m=\u001b[39m \u001b[39m\"\u001b[39m\u001b[39mhttp://localhost:8000/chat\u001b[39m\u001b[39m\"\u001b[39m\n\u001b[1;32m     10\u001b[0m r \u001b[39m=\u001b[39m requests\u001b[39m.\u001b[39mpost(url, json\u001b[39m=\u001b[39mpayload)\n\u001b[0;32m---> 11\u001b[0m r\u001b[39m.\u001b[39;49mraise_for_status()\n\u001b[1;32m     12\u001b[0m \u001b[39mprint\u001b[39m(r\u001b[39m.\u001b[39mstatus_code)\n",
      "File \u001b[0;32m~/anaconda3/envs/testoa/lib/python3.10/site-packages/requests/models.py:1021\u001b[0m, in \u001b[0;36mResponse.raise_for_status\u001b[0;34m(self)\u001b[0m\n\u001b[1;32m   1016\u001b[0m     http_error_msg \u001b[39m=\u001b[39m (\n\u001b[1;32m   1017\u001b[0m         \u001b[39mf\u001b[39m\u001b[39m\"\u001b[39m\u001b[39m{\u001b[39;00m\u001b[39mself\u001b[39m\u001b[39m.\u001b[39mstatus_code\u001b[39m}\u001b[39;00m\u001b[39m Server Error: \u001b[39m\u001b[39m{\u001b[39;00mreason\u001b[39m}\u001b[39;00m\u001b[39m for url: \u001b[39m\u001b[39m{\u001b[39;00m\u001b[39mself\u001b[39m\u001b[39m.\u001b[39murl\u001b[39m}\u001b[39;00m\u001b[39m\"\u001b[39m\n\u001b[1;32m   1018\u001b[0m     )\n\u001b[1;32m   1020\u001b[0m \u001b[39mif\u001b[39;00m http_error_msg:\n\u001b[0;32m-> 1021\u001b[0m     \u001b[39mraise\u001b[39;00m HTTPError(http_error_msg, response\u001b[39m=\u001b[39m\u001b[39mself\u001b[39m)\n",
      "\u001b[0;31mHTTPError\u001b[0m: 400 Client Error: context_id bf68b34c19964a73ba03c9779ef70fa9 does not exist for url: http://localhost:8000/chat"
     ]
    }
   ],
   "source": [
    "# non-existent context\n",
    "id_ = uuid.uuid4().hex\n",
    "payload = {\n",
    "    \"id\": id_,\n",
    "    \"context_id\": \"bf68b34c19964a73ba03c9779ef70fa9\",\n",
    "    \"question\": \"What is daios?\",\n",
    "}\n",
    "\n",
    "url = \"http://localhost:8000/chat\"\n",
    "r = requests.post(url, json=payload)\n",
    "r.raise_for_status()\n",
    "print(r.status_code)\n"
   ]
  },
  {
   "cell_type": "markdown",
   "metadata": {},
   "source": [
    "### V2 (Deprecated)"
   ]
  },
  {
   "cell_type": "code",
   "execution_count": 1,
   "metadata": {},
   "outputs": [],
   "source": [
    "import pika\n",
    "import json\n",
    "import uuid"
   ]
  },
  {
   "cell_type": "code",
   "execution_count": null,
   "metadata": {},
   "outputs": [],
   "source": [
    "credentials = pika.PlainCredentials('guest', 'guest')\n",
    "parameters = pika.ConnectionParameters('localhost', 5672, credentials=credentials)\n",
    "connection = pika.BlockingConnection(parameters)\n",
    "channel = connection.channel()\n",
    "# channel.queue_declare(queue=\"consume_queue\")\n",
    "\n",
    "\n",
    "id = uuid.uuid4().hex\n",
    "\n",
    "# basic publish\n",
    "channel.basic_publish(\n",
    "    exchange='',\n",
    "    routing_key='consume_queue',\n",
    "    body=json.dumps({\"id\":id, \"user_message\": \"What is the capital of India?\"})\n",
    ")\n",
    "\n",
    "id"
   ]
  },
  {
   "cell_type": "code",
   "execution_count": null,
   "metadata": {},
   "outputs": [],
   "source": [
    "credentials = pika.PlainCredentials('guest', 'guest')\n",
    "parameters = pika.ConnectionParameters('localhost', 5672, credentials=credentials)\n",
    "connection = pika.BlockingConnection(parameters)\n",
    "channel = connection.channel()\n",
    "# channel.queue_declare(queue=\"consume_queue\")\n",
    "\n",
    "# basic publish\n",
    "method_frame, header_frame, body = channel.basic_get(queue=\"publish_queue\", auto_ack=True)\n",
    "\n",
    "body"
   ]
  },
  {
   "cell_type": "markdown",
   "metadata": {},
   "source": [
    "### Deprecated"
   ]
  },
  {
   "cell_type": "code",
   "execution_count": 2,
   "metadata": {},
   "outputs": [],
   "source": [
    "rmq = InteractRabbitMQ()\n",
    "rmq.start()\n",
    "id_ = uuid.uuid4().hex\n",
    "req = {\"request\": \"What is the capital of Indonesia\", \"id\": id_}"
   ]
  },
  {
   "cell_type": "code",
   "execution_count": 3,
   "metadata": {},
   "outputs": [],
   "source": [
    "rmq.enqueue_request(req)"
   ]
  },
  {
   "cell_type": "code",
   "execution_count": 4,
   "metadata": {},
   "outputs": [],
   "source": [
    "res = rmq.get_response_queue(id_)"
   ]
  },
  {
   "cell_type": "code",
   "execution_count": 5,
   "metadata": {},
   "outputs": [
    {
     "data": {
      "text/plain": [
       "{'id': '3856e399bb064584a2a650c73d1f7b2c',\n",
       " 'request': 'What is the capital of Indonesia',\n",
       " 'response': 'The capital of Indonesia is Jakarta.'}"
      ]
     },
     "execution_count": 5,
     "metadata": {},
     "output_type": "execute_result"
    }
   ],
   "source": [
    "res"
   ]
  },
  {
   "cell_type": "code",
   "execution_count": null,
   "metadata": {},
   "outputs": [],
   "source": []
  }
 ],
 "metadata": {
  "kernelspec": {
   "display_name": "openautonomy",
   "language": "python",
   "name": "python3"
  },
  "language_info": {
   "codemirror_mode": {
    "name": "ipython",
    "version": 3
   },
   "file_extension": ".py",
   "mimetype": "text/x-python",
   "name": "python",
   "nbconvert_exporter": "python",
   "pygments_lexer": "ipython3",
   "version": "3.10.12"
  },
  "orig_nbformat": 4
 },
 "nbformat": 4,
 "nbformat_minor": 2
}
