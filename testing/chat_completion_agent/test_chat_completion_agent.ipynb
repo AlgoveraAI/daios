{
 "cells": [
  {
   "cell_type": "code",
   "execution_count": 1,
   "metadata": {},
   "outputs": [],
   "source": [
    "import json\n",
    "import uuid\n",
    "from rabbitmq import InteractRabbitMQ"
   ]
  },
  {
   "cell_type": "markdown",
   "metadata": {},
   "source": [
    "### V2"
   ]
  },
  {
   "cell_type": "code",
   "execution_count": 1,
   "metadata": {},
   "outputs": [],
   "source": [
    "import pika\n",
    "import json\n",
    "import uuid"
   ]
  },
  {
   "cell_type": "code",
   "execution_count": null,
   "metadata": {},
   "outputs": [],
   "source": [
    "credentials = pika.PlainCredentials('guest', 'guest')\n",
    "parameters = pika.ConnectionParameters('localhost', 5672, credentials=credentials)\n",
    "connection = pika.BlockingConnection(parameters)\n",
    "channel = connection.channel()\n",
    "# channel.queue_declare(queue=\"consume_queue\")\n",
    "\n",
    "\n",
    "id = uuid.uuid4().hex\n",
    "\n",
    "# basic publish\n",
    "channel.basic_publish(\n",
    "    exchange='',\n",
    "    routing_key='consume_queue',\n",
    "    body=json.dumps({\"id\":id, \"user_message\": \"What is the capital of India?\"})\n",
    ")\n",
    "\n",
    "id"
   ]
  },
  {
   "cell_type": "code",
   "execution_count": null,
   "metadata": {},
   "outputs": [],
   "source": [
    "credentials = pika.PlainCredentials('guest', 'guest')\n",
    "parameters = pika.ConnectionParameters('localhost', 5672, credentials=credentials)\n",
    "connection = pika.BlockingConnection(parameters)\n",
    "channel = connection.channel()\n",
    "# channel.queue_declare(queue=\"consume_queue\")\n",
    "\n",
    "# basic publish\n",
    "method_frame, header_frame, body = channel.basic_get(queue=\"publish_queue\", auto_ack=True)\n",
    "\n",
    "body"
   ]
  },
  {
   "cell_type": "markdown",
   "metadata": {},
   "source": [
    "### Deprecated"
   ]
  },
  {
   "cell_type": "code",
   "execution_count": 2,
   "metadata": {},
   "outputs": [],
   "source": [
    "rmq = InteractRabbitMQ()\n",
    "rmq.start()\n",
    "id_ = uuid.uuid4().hex\n",
    "req = {\"request\": \"What is the capital of Indonesia\", \"id\": id_}"
   ]
  },
  {
   "cell_type": "code",
   "execution_count": 3,
   "metadata": {},
   "outputs": [],
   "source": [
    "rmq.enqueue_request(req)"
   ]
  },
  {
   "cell_type": "code",
   "execution_count": 4,
   "metadata": {},
   "outputs": [],
   "source": [
    "res = rmq.get_response_queue(id_)"
   ]
  },
  {
   "cell_type": "code",
   "execution_count": 5,
   "metadata": {},
   "outputs": [
    {
     "data": {
      "text/plain": [
       "{'id': '3856e399bb064584a2a650c73d1f7b2c',\n",
       " 'request': 'What is the capital of Indonesia',\n",
       " 'response': 'The capital of Indonesia is Jakarta.'}"
      ]
     },
     "execution_count": 5,
     "metadata": {},
     "output_type": "execute_result"
    }
   ],
   "source": [
    "res"
   ]
  },
  {
   "cell_type": "code",
   "execution_count": null,
   "metadata": {},
   "outputs": [],
   "source": []
  }
 ],
 "metadata": {
  "kernelspec": {
   "display_name": "openautonomy",
   "language": "python",
   "name": "python3"
  },
  "language_info": {
   "codemirror_mode": {
    "name": "ipython",
    "version": 3
   },
   "file_extension": ".py",
   "mimetype": "text/x-python",
   "name": "python",
   "nbconvert_exporter": "python",
   "pygments_lexer": "ipython3",
   "version": "3.10.11"
  },
  "orig_nbformat": 4
 },
 "nbformat": 4,
 "nbformat_minor": 2
}
