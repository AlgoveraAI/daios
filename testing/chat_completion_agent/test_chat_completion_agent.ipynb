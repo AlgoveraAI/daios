{
 "cells": [
  {
   "cell_type": "code",
   "execution_count": 1,
   "metadata": {},
   "outputs": [],
   "source": [
    "import json\n",
    "import uuid\n",
    "import requests"
   ]
  },
  {
   "cell_type": "markdown",
   "metadata": {},
   "source": [
    "## Test embedding, context, chat completion"
   ]
  },
  {
   "cell_type": "markdown",
   "metadata": {},
   "source": [
    "##### Test chat_completion"
   ]
  },
  {
   "cell_type": "code",
   "execution_count": 5,
   "metadata": {},
   "outputs": [
    {
     "data": {
      "text/plain": [
       "{'id': '008f2686361c48b9a3ff495feaa9628c'}"
      ]
     },
     "execution_count": 5,
     "metadata": {},
     "output_type": "execute_result"
    }
   ],
   "source": [
    "# Make chat_completion call\n",
    "id_ = uuid.uuid4().hex\n",
    "payload = {\n",
    "    \"id\": id_,\n",
    "    \"system_message\": \"You are a helpful assistant that translates English to French.\",\n",
    "    \"user_message\": \"Translate this sentence from English to French. I love programming.\",\n",
    "}\n",
    "\n",
    "url = \"http://localhost:8000/chat_completion\"\n",
    "r = requests.post(url, json=payload)\n",
    "r.raise_for_status()\n",
    "r.json()"
   ]
  },
  {
   "cell_type": "code",
   "execution_count": 6,
   "metadata": {},
   "outputs": [
    {
     "data": {
      "text/plain": [
       "[{'id': '008f2686361c48b9a3ff495feaa9628c',\n",
       "  'system_message': 'You are a helpful assistant that translates English to French.',\n",
       "  'user_message': 'Translate this sentence from English to French. I love programming.',\n",
       "  'response': \"J'adore la programmation.\",\n",
       "  'request_type': 'chat_completion',\n",
       "  'request_time': '1695380308.6723156',\n",
       "  'response_time': '1695380313.454599',\n",
       "  'processed': True,\n",
       "  'processor': '0x9965507D1a55bcC2695C58ba16FB37d819B0A4dc',\n",
       "  'error': False,\n",
       "  'error_message': None,\n",
       "  'error_name': None}]"
      ]
     },
     "execution_count": 6,
     "metadata": {},
     "output_type": "execute_result"
    }
   ],
   "source": [
    "# retrieve the response from the server\n",
    "\n",
    "get_url = f\"http://localhost:8000/get/{id_}\"\n",
    "\n",
    "r = requests.get(get_url)\n",
    "r = r.json(); r"
   ]
  },
  {
   "cell_type": "code",
   "execution_count": 7,
   "metadata": {},
   "outputs": [],
   "source": [
    "# Make multiple calls\n",
    "\n",
    "ids = []\n",
    "system_messages = [\n",
    "    \"You are a helpful assistant that translates English to French.\",\n",
    "    \"You are a helpful assistant that translates English to Italian.\",\n",
    "    \"You are a helpful assistant that translates English to Spanish.\",\n",
    "    \"You are a helpful assistant that translates English to German.\",\n",
    "    \"You are a helpful assistant that translates English to Russian.\",\n",
    "]\n",
    "\n",
    "user_messages = [\n",
    "    \"Translate this sentence from English to French. I love programming.\",\n",
    "    \"Translate this sentence from English to Italian. I love programming.\",\n",
    "    \"Translate this sentence from English to Spanish. I love programming.\",\n",
    "    \"Translate this sentence from English to German. I love programming.\",\n",
    "    \"Translate this sentence from English to Russian. I love programming.\",\n",
    "]\n",
    "request_responses = []\n",
    "for i in range(5):\n",
    "    id_ = uuid.uuid4().hex\n",
    "    payload = {\n",
    "        \"id\": id_,\n",
    "        \"system_message\": system_messages[i],\n",
    "        \"user_message\": user_messages[i],\n",
    "    }\n",
    "    ids.append(id_)\n",
    "    url = \"http://localhost:8000/chat_completion\"\n",
    "    r = requests.post(url, json=payload)\n",
    "    request_responses.append(r)"
   ]
  },
  {
   "cell_type": "code",
   "execution_count": 9,
   "metadata": {},
   "outputs": [
    {
     "name": "stdout",
     "output_type": "stream",
     "text": [
      "[{'id': 'c198194da15543bbb381afece44b540f', 'system_message': 'You are a helpful assistant that translates English to French.', 'user_message': 'Translate this sentence from English to French. I love programming.', 'response': \"J'adore la programmation.\", 'request_type': 'chat_completion', 'request_time': '1695380342.8548272', 'response_time': '1695380347.4400806', 'processed': True, 'processor': '0x9965507D1a55bcC2695C58ba16FB37d819B0A4dc', 'error': False, 'error_message': None, 'error_name': None}]\n",
      "[{'id': '758ea3c5e40c4a36bcc483a874697cb4', 'system_message': 'You are a helpful assistant that translates English to Italian.', 'user_message': 'Translate this sentence from English to Italian. I love programming.', 'response': 'Amo la programmazione.', 'request_type': 'chat_completion', 'request_time': '1695380342.8641956', 'response_time': '1695380347.4515853', 'processed': True, 'processor': '0x976EA74026E726554dB657fA54763abd0C3a0aa9', 'error': False, 'error_message': None, 'error_name': None}]\n",
      "[{'id': '5caaafe5494a4c4c809b537e322718a4', 'system_message': 'You are a helpful assistant that translates English to Spanish.', 'user_message': 'Translate this sentence from English to Spanish. I love programming.', 'response': 'Amo la programación.', 'request_type': 'chat_completion', 'request_time': '1695380342.8721707', 'response_time': '1695380347.4203875', 'processed': True, 'processor': '0x14dC79964da2C08b23698B3D3cc7Ca32193d9955', 'error': False, 'error_message': None, 'error_name': None}]\n",
      "[{'id': '761442d8fb874606ba97104e927e5a8d', 'system_message': 'You are a helpful assistant that translates English to German.', 'user_message': 'Translate this sentence from English to German. I love programming.', 'response': 'Ich liebe das Programmieren.', 'request_type': 'chat_completion', 'request_time': '1695380342.8830795', 'response_time': '1695380347.475618', 'processed': True, 'processor': '0x15d34AAf54267DB7D7c367839AAf71A00a2C6A65', 'error': False, 'error_message': None, 'error_name': None}]\n",
      "[{'id': 'c28c218b5dda43a2a7a46cea3e19eb75', 'system_message': 'You are a helpful assistant that translates English to Russian.', 'user_message': 'Translate this sentence from English to Russian. I love programming.', 'response': 'Я люблю программирование.', 'request_type': 'chat_completion', 'request_time': '1695380342.8913193', 'response_time': '1695380352.527863', 'processed': True, 'processor': '0x9965507D1a55bcC2695C58ba16FB37d819B0A4dc', 'error': False, 'error_message': None, 'error_name': None}]\n"
     ]
    }
   ],
   "source": [
    "# retrieve multiple responses from the server\n",
    "\n",
    "for id_, r in zip(ids, request_responses):\n",
    "    get_url = f\"http://localhost:8000/get/{id_}\"\n",
    "    r = requests.get(get_url)\n",
    "    print(r.json())"
   ]
  },
  {
   "cell_type": "markdown",
   "metadata": {},
   "source": [
    "##### Embedding"
   ]
  },
  {
   "cell_type": "code",
   "execution_count": 10,
   "metadata": {},
   "outputs": [
    {
     "data": {
      "text/plain": [
       "{'id': '191776a64afe4af48d4696ccea3a3eec'}"
      ]
     },
     "execution_count": 10,
     "metadata": {},
     "output_type": "execute_result"
    }
   ],
   "source": [
    "# Upload a file to create an embedding.\n",
    "# NOTE: For pdf files, you need to parse locally and upload the text file.\n",
    "\n",
    "emb_id_ = uuid.uuid4().hex\n",
    "payload = {\n",
    "    \"id\": emb_id_,\n",
    "    # \"system_message\": \"You are a helpful assistant that translates English to French.\",\n",
    "    # \"user_message\": \"Translate this sentence from English to French. I love programming.\",\n",
    "}\n",
    "\n",
    "# Add a file\n",
    "file = open(\"../../README.md\", \"rb\")\n",
    "files = {\"file\": file}\n",
    "\n",
    "url = \"http://localhost:8000/embedding\"\n",
    "r = requests.post(url, files=files, data={\"data\":json.dumps(payload)})\n",
    "r.raise_for_status()\n",
    "r.json()"
   ]
  },
  {
   "cell_type": "markdown",
   "metadata": {},
   "source": [
    "##### chat"
   ]
  },
  {
   "cell_type": "code",
   "execution_count": 11,
   "metadata": {},
   "outputs": [],
   "source": [
    "# Chatting over the embedding above. Since no `memory_id` is provided, the agent will assume this is a new conversation\n",
    "id_ = uuid.uuid4().hex\n",
    "payload = {\n",
    "    \"id\": id_,\n",
    "    \"context_id\": emb_id_, # Is the same as the id when making the embedding\n",
    "    \"question\": \"What is daios?\",\n",
    "}\n",
    "\n",
    "url = \"http://localhost:8000/chat\"\n",
    "r = requests.post(url, json=payload)\n",
    "r.raise_for_status()\n",
    "r = r.json()\n",
    "mem_id = r[\"memory_id\"]\n"
   ]
  },
  {
   "cell_type": "code",
   "execution_count": 37,
   "metadata": {},
   "outputs": [
    {
     "data": {
      "text/plain": [
       "[{'id': '10467ca444a24624ba32ae9fe156d81b',\n",
       "  'context_id': 'b19b850793774c8785c5ee916946b778',\n",
       "  'memory_id': '5d89536018fc4968b9b61c0cb6cd56ed',\n",
       "  'question': 'What is daios?',\n",
       "  'modified_question': None,\n",
       "  'response': 'Based on the context provided, DAIOS refers to the Decentralized AI Operating System. It is an extension of the Open AEA (Agent Environment Architecture) framework developed by Valory. The DAIOS framework aims to build a decentralized operating system for artificial intelligence, integrating blockchain, messaging, and other technologies.',\n",
       "  'chat_history': [{'role': 'user', 'content': 'What is daios?'},\n",
       "   {'role': 'assistant',\n",
       "    'content': 'Based on the context provided, DAIOS refers to the Decentralized AI Operating System. It is an extension of the Open AEA (Agent Environment Architecture) framework developed by Valory. The DAIOS framework aims to build a decentralized operating system for artificial intelligence, integrating blockchain, messaging, and other technologies.'}],\n",
       "  'request_time': '1690970621.1658242',\n",
       "  'response_time': '1690970629.364684',\n",
       "  'request_type': 'chat',\n",
       "  'processed': True,\n",
       "  'processor': '0x15d34AAf54267DB7D7c367839AAf71A00a2C6A65',\n",
       "  'error': False,\n",
       "  'error_message': None,\n",
       "  'error_name': None}]"
      ]
     },
     "execution_count": 37,
     "metadata": {},
     "output_type": "execute_result"
    }
   ],
   "source": [
    "get_url = f\"http://localhost:8000/get/{id_}\"\n",
    "\n",
    "r = requests.get(get_url)\n",
    "r.raise_for_status()\n",
    "r = r.json(); r"
   ]
  },
  {
   "cell_type": "code",
   "execution_count": 12,
   "metadata": {},
   "outputs": [
    {
     "data": {
      "text/plain": [
       "{'id': '098b704a979e4ddfbe1f719ded51374b',\n",
       " 'memory_id': '46f45ef144524af095ecfddb30ef814e'}"
      ]
     },
     "execution_count": 12,
     "metadata": {},
     "output_type": "execute_result"
    }
   ],
   "source": [
    "# since a `memory_id` is provided, the agent will use the memory to generate a follow-up response\n",
    "id_ = uuid.uuid4().hex\n",
    "payload = {\n",
    "    \"id\": id_,\n",
    "    \"context_id\": emb_id_,\n",
    "    \"memory_id\": mem_id,\n",
    "    \"question\": \"does it provide a platform?\",\n",
    "}\n",
    "\n",
    "url = \"http://localhost:8000/chat\"\n",
    "r = requests.post(url, json=payload)\n",
    "r.raise_for_status()\n",
    "r.json()"
   ]
  },
  {
   "cell_type": "code",
   "execution_count": 13,
   "metadata": {},
   "outputs": [
    {
     "data": {
      "text/plain": [
       "[{'id': '098b704a979e4ddfbe1f719ded51374b',\n",
       "  'context_id': '191776a64afe4af48d4696ccea3a3eec',\n",
       "  'memory_id': '46f45ef144524af095ecfddb30ef814e',\n",
       "  'question': 'does it provide a platform?',\n",
       "  'modified_question': 'Does DAIOS provide a platform?',\n",
       "  'response': 'Based on the context provided, DAIOS does not explicitly mention whether it provides a platform. However, it is described as a decentralized operating system for AI applications. Therefore, it can be inferred that DAIOS may provide a platform for building and running AI applications.',\n",
       "  'chat_history': [{'role': 'user', 'content': 'What is daios?'},\n",
       "   {'role': 'assistant',\n",
       "    'content': 'Based on the context provided, DAIOS stands for Decentralized AI Operating System. It is an extension of the Open Autonomy framework, which is a framework for building autonomous agents in the crypto space. DAIOS aims to provide a decentralized operating system for AI applications.'},\n",
       "   {'role': 'user', 'content': 'Does DAIOS provide a platform?'},\n",
       "   {'role': 'assistant',\n",
       "    'content': 'Based on the context provided, DAIOS does not explicitly mention whether it provides a platform. However, it is described as a decentralized operating system for AI applications. Therefore, it can be inferred that DAIOS may provide a platform for building and running AI applications.'}],\n",
       "  'request_time': '1695380417.3265939',\n",
       "  'response_time': '1695380427.052022',\n",
       "  'request_type': 'chat',\n",
       "  'processed': True,\n",
       "  'processor': '0x9965507D1a55bcC2695C58ba16FB37d819B0A4dc',\n",
       "  'error': False,\n",
       "  'error_message': None,\n",
       "  'error_name': None}]"
      ]
     },
     "execution_count": 13,
     "metadata": {},
     "output_type": "execute_result"
    }
   ],
   "source": [
    "get_url = f\"http://localhost:8000/get/{id_}\"\n",
    "\n",
    "r = requests.get(get_url)\n",
    "r = r.json()\n",
    "r"
   ]
  },
  {
   "cell_type": "markdown",
   "metadata": {},
   "source": [
    "##### Bad requests are handled within the http_server"
   ]
  },
  {
   "cell_type": "code",
   "execution_count": 40,
   "metadata": {},
   "outputs": [
    {
     "ename": "HTTPError",
     "evalue": "400 Client Error: context_id bf68b34c19964a73ba03c9779ef70fa9 does not exist for url: http://localhost:8000/chat",
     "output_type": "error",
     "traceback": [
      "\u001b[0;31m---------------------------------------------------------------------------\u001b[0m",
      "\u001b[0;31mHTTPError\u001b[0m                                 Traceback (most recent call last)",
      "Cell \u001b[0;32mIn[40], line 12\u001b[0m\n\u001b[1;32m     10\u001b[0m url \u001b[39m=\u001b[39m \u001b[39m\"\u001b[39m\u001b[39mhttp://localhost:8000/chat\u001b[39m\u001b[39m\"\u001b[39m\n\u001b[1;32m     11\u001b[0m r \u001b[39m=\u001b[39m requests\u001b[39m.\u001b[39mpost(url, json\u001b[39m=\u001b[39mpayload)\n\u001b[0;32m---> 12\u001b[0m r\u001b[39m.\u001b[39;49mraise_for_status()\n\u001b[1;32m     13\u001b[0m \u001b[39mprint\u001b[39m(r\u001b[39m.\u001b[39mstatus_code)\n",
      "File \u001b[0;32m~/anaconda3/envs/testoa/lib/python3.10/site-packages/requests/models.py:1021\u001b[0m, in \u001b[0;36mResponse.raise_for_status\u001b[0;34m(self)\u001b[0m\n\u001b[1;32m   1016\u001b[0m     http_error_msg \u001b[39m=\u001b[39m (\n\u001b[1;32m   1017\u001b[0m         \u001b[39mf\u001b[39m\u001b[39m\"\u001b[39m\u001b[39m{\u001b[39;00m\u001b[39mself\u001b[39m\u001b[39m.\u001b[39mstatus_code\u001b[39m}\u001b[39;00m\u001b[39m Server Error: \u001b[39m\u001b[39m{\u001b[39;00mreason\u001b[39m}\u001b[39;00m\u001b[39m for url: \u001b[39m\u001b[39m{\u001b[39;00m\u001b[39mself\u001b[39m\u001b[39m.\u001b[39murl\u001b[39m}\u001b[39;00m\u001b[39m\"\u001b[39m\n\u001b[1;32m   1018\u001b[0m     )\n\u001b[1;32m   1020\u001b[0m \u001b[39mif\u001b[39;00m http_error_msg:\n\u001b[0;32m-> 1021\u001b[0m     \u001b[39mraise\u001b[39;00m HTTPError(http_error_msg, response\u001b[39m=\u001b[39m\u001b[39mself\u001b[39m)\n",
      "\u001b[0;31mHTTPError\u001b[0m: 400 Client Error: context_id bf68b34c19964a73ba03c9779ef70fa9 does not exist for url: http://localhost:8000/chat"
     ]
    }
   ],
   "source": [
    "# non-existent memory\n",
    "id_ = uuid.uuid4().hex\n",
    "payload = {\n",
    "    \"id\": id_,\n",
    "    \"context_id\": \"bf68b34c19964a73ba03c9779ef70fa9\",\n",
    "    \"memory_id\": \"87b9426ab1f84ad689e0eb29e350db83\",\n",
    "    \"question\": \"What is daios?\",\n",
    "}\n",
    "\n",
    "url = \"http://localhost:8000/chat\"\n",
    "r = requests.post(url, json=payload)\n",
    "r.raise_for_status()\n",
    "print(r.status_code)\n"
   ]
  },
  {
   "cell_type": "code",
   "execution_count": 13,
   "metadata": {},
   "outputs": [
    {
     "ename": "HTTPError",
     "evalue": "400 Client Error: context_id bf68b34c19964a73ba03c9779ef70fa9 does not exist for url: http://localhost:8000/chat",
     "output_type": "error",
     "traceback": [
      "\u001b[0;31m---------------------------------------------------------------------------\u001b[0m",
      "\u001b[0;31mHTTPError\u001b[0m                                 Traceback (most recent call last)",
      "Cell \u001b[0;32mIn[13], line 11\u001b[0m\n\u001b[1;32m      9\u001b[0m url \u001b[39m=\u001b[39m \u001b[39m\"\u001b[39m\u001b[39mhttp://localhost:8000/chat\u001b[39m\u001b[39m\"\u001b[39m\n\u001b[1;32m     10\u001b[0m r \u001b[39m=\u001b[39m requests\u001b[39m.\u001b[39mpost(url, json\u001b[39m=\u001b[39mpayload)\n\u001b[0;32m---> 11\u001b[0m r\u001b[39m.\u001b[39;49mraise_for_status()\n\u001b[1;32m     12\u001b[0m \u001b[39mprint\u001b[39m(r\u001b[39m.\u001b[39mstatus_code)\n",
      "File \u001b[0;32m~/anaconda3/envs/testoa/lib/python3.10/site-packages/requests/models.py:1021\u001b[0m, in \u001b[0;36mResponse.raise_for_status\u001b[0;34m(self)\u001b[0m\n\u001b[1;32m   1016\u001b[0m     http_error_msg \u001b[39m=\u001b[39m (\n\u001b[1;32m   1017\u001b[0m         \u001b[39mf\u001b[39m\u001b[39m\"\u001b[39m\u001b[39m{\u001b[39;00m\u001b[39mself\u001b[39m\u001b[39m.\u001b[39mstatus_code\u001b[39m}\u001b[39;00m\u001b[39m Server Error: \u001b[39m\u001b[39m{\u001b[39;00mreason\u001b[39m}\u001b[39;00m\u001b[39m for url: \u001b[39m\u001b[39m{\u001b[39;00m\u001b[39mself\u001b[39m\u001b[39m.\u001b[39murl\u001b[39m}\u001b[39;00m\u001b[39m\"\u001b[39m\n\u001b[1;32m   1018\u001b[0m     )\n\u001b[1;32m   1020\u001b[0m \u001b[39mif\u001b[39;00m http_error_msg:\n\u001b[0;32m-> 1021\u001b[0m     \u001b[39mraise\u001b[39;00m HTTPError(http_error_msg, response\u001b[39m=\u001b[39m\u001b[39mself\u001b[39m)\n",
      "\u001b[0;31mHTTPError\u001b[0m: 400 Client Error: context_id bf68b34c19964a73ba03c9779ef70fa9 does not exist for url: http://localhost:8000/chat"
     ]
    }
   ],
   "source": [
    "# non-existent context\n",
    "id_ = uuid.uuid4().hex\n",
    "payload = {\n",
    "    \"id\": id_,\n",
    "    \"context_id\": \"bf68b34c19964a73ba03c9779ef70fa9\",\n",
    "    \"question\": \"What is daios?\",\n",
    "}\n",
    "\n",
    "url = \"http://localhost:8000/chat\"\n",
    "r = requests.post(url, json=payload)\n",
    "r.raise_for_status()\n",
    "print(r.status_code)\n"
   ]
  },
  {
   "cell_type": "markdown",
   "metadata": {},
   "source": [
    "### V2 (Deprecated)"
   ]
  },
  {
   "cell_type": "code",
   "execution_count": 1,
   "metadata": {},
   "outputs": [],
   "source": [
    "import pika\n",
    "import json\n",
    "import uuid"
   ]
  },
  {
   "cell_type": "code",
   "execution_count": null,
   "metadata": {},
   "outputs": [],
   "source": [
    "credentials = pika.PlainCredentials('guest', 'guest')\n",
    "parameters = pika.ConnectionParameters('localhost', 5672, credentials=credentials)\n",
    "connection = pika.BlockingConnection(parameters)\n",
    "channel = connection.channel()\n",
    "# channel.queue_declare(queue=\"consume_queue\")\n",
    "\n",
    "\n",
    "id = uuid.uuid4().hex\n",
    "\n",
    "# basic publish\n",
    "channel.basic_publish(\n",
    "    exchange='',\n",
    "    routing_key='consume_queue',\n",
    "    body=json.dumps({\"id\":id, \"user_message\": \"What is the capital of India?\"})\n",
    ")\n",
    "\n",
    "id"
   ]
  },
  {
   "cell_type": "code",
   "execution_count": null,
   "metadata": {},
   "outputs": [],
   "source": [
    "credentials = pika.PlainCredentials('guest', 'guest')\n",
    "parameters = pika.ConnectionParameters('localhost', 5672, credentials=credentials)\n",
    "connection = pika.BlockingConnection(parameters)\n",
    "channel = connection.channel()\n",
    "# channel.queue_declare(queue=\"consume_queue\")\n",
    "\n",
    "# basic publish\n",
    "method_frame, header_frame, body = channel.basic_get(queue=\"publish_queue\", auto_ack=True)\n",
    "\n",
    "body"
   ]
  },
  {
   "cell_type": "markdown",
   "metadata": {},
   "source": [
    "### Deprecated"
   ]
  },
  {
   "cell_type": "code",
   "execution_count": 2,
   "metadata": {},
   "outputs": [],
   "source": [
    "rmq = InteractRabbitMQ()\n",
    "rmq.start()\n",
    "id_ = uuid.uuid4().hex\n",
    "req = {\"request\": \"What is the capital of Indonesia\", \"id\": id_}"
   ]
  },
  {
   "cell_type": "code",
   "execution_count": 3,
   "metadata": {},
   "outputs": [],
   "source": [
    "rmq.enqueue_request(req)"
   ]
  },
  {
   "cell_type": "code",
   "execution_count": 4,
   "metadata": {},
   "outputs": [],
   "source": [
    "res = rmq.get_response_queue(id_)"
   ]
  },
  {
   "cell_type": "code",
   "execution_count": 5,
   "metadata": {},
   "outputs": [
    {
     "data": {
      "text/plain": [
       "{'id': '3856e399bb064584a2a650c73d1f7b2c',\n",
       " 'request': 'What is the capital of Indonesia',\n",
       " 'response': 'The capital of Indonesia is Jakarta.'}"
      ]
     },
     "execution_count": 5,
     "metadata": {},
     "output_type": "execute_result"
    }
   ],
   "source": [
    "res"
   ]
  },
  {
   "cell_type": "code",
   "execution_count": null,
   "metadata": {},
   "outputs": [],
   "source": []
  }
 ],
 "metadata": {
  "kernelspec": {
   "display_name": "openautonomy",
   "language": "python",
   "name": "python3"
  },
  "language_info": {
   "codemirror_mode": {
    "name": "ipython",
    "version": 3
   },
   "file_extension": ".py",
   "mimetype": "text/x-python",
   "name": "python",
   "nbconvert_exporter": "python",
   "pygments_lexer": "ipython3",
   "version": "3.10.11"
  },
  "orig_nbformat": 4
 },
 "nbformat": 4,
 "nbformat_minor": 2
}
