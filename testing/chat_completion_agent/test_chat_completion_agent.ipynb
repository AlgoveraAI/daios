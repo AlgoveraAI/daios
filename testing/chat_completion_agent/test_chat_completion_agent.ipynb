{
 "cells": [
  {
   "cell_type": "code",
   "execution_count": 1,
   "metadata": {},
   "outputs": [],
   "source": [
    "import json\n",
    "import uuid\n",
    "import requests"
   ]
  },
  {
   "cell_type": "markdown",
   "metadata": {},
   "source": [
    "## Test embedding, context, chat completion"
   ]
  },
  {
   "cell_type": "markdown",
   "metadata": {},
   "source": [
    "##### Test chat_completion"
   ]
  },
  {
   "cell_type": "code",
   "execution_count": 2,
   "metadata": {},
   "outputs": [
    {
     "data": {
      "text/plain": [
       "{'id': '04adce65526749329c85652fc2149f71'}"
      ]
     },
     "execution_count": 2,
     "metadata": {},
     "output_type": "execute_result"
    }
   ],
   "source": [
    "# Make chat_completion call\n",
    "id_ = uuid.uuid4().hex\n",
    "payload = {\n",
    "    \"id\": id_,\n",
    "    \"system_message\": \"You are a helpful assistant that translates English to French.\",\n",
    "    \"user_message\": \"Translate this sentence from English to French. I love programming.\",\n",
    "}\n",
    "\n",
    "url = \"http://localhost:8000/chat_completion\"\n",
    "r = requests.post(url, json=payload)\n",
    "r.raise_for_status()\n",
    "r.json()"
   ]
  },
  {
   "cell_type": "code",
   "execution_count": 3,
   "metadata": {},
   "outputs": [
    {
     "data": {
      "text/plain": [
       "[{'id': '04adce65526749329c85652fc2149f71',\n",
       "  'system_message': 'You are a helpful assistant that translates English to French.',\n",
       "  'user_message': 'Translate this sentence from English to French. I love programming.',\n",
       "  'response': \"J'adore la programmation.\",\n",
       "  'request_type': 'chat_completion',\n",
       "  'request_time': '1690852444.9231312',\n",
       "  'response_time': '1690852448.4844308',\n",
       "  'processed': True,\n",
       "  'processor': '0x15d34AAf54267DB7D7c367839AAf71A00a2C6A65',\n",
       "  'error': False,\n",
       "  'error_message': None,\n",
       "  'error_name': None}]"
      ]
     },
     "execution_count": 3,
     "metadata": {},
     "output_type": "execute_result"
    }
   ],
   "source": [
    "# retrieve the response from the server\n",
    "\n",
    "get_url = f\"http://localhost:8000/get/{id_}\"\n",
    "\n",
    "r = requests.get(get_url)\n",
    "r = r.json(); r"
   ]
  },
  {
   "cell_type": "code",
   "execution_count": 4,
   "metadata": {},
   "outputs": [],
   "source": [
    "# Make multiple calls\n",
    "\n",
    "ids = []\n",
    "system_messages = [\n",
    "    \"You are a helpful assistant that translates English to French.\",\n",
    "    \"You are a helpful assistant that translates English to Italian.\",\n",
    "    \"You are a helpful assistant that translates English to Spanish.\",\n",
    "    \"You are a helpful assistant that translates English to German.\",\n",
    "    \"You are a helpful assistant that translates English to Russian.\",\n",
    "]\n",
    "\n",
    "user_messages = [\n",
    "    \"Translate this sentence from English to French. I love programming.\",\n",
    "    \"Translate this sentence from English to Italian. I love programming.\",\n",
    "    \"Translate this sentence from English to Spanish. I love programming.\",\n",
    "    \"Translate this sentence from English to German. I love programming.\",\n",
    "    \"Translate this sentence from English to Russian. I love programming.\",\n",
    "]\n",
    "request_responses = []\n",
    "for i in range(5):\n",
    "    id_ = uuid.uuid4().hex\n",
    "    payload = {\n",
    "        \"id\": id_,\n",
    "        \"system_message\": system_messages[i],\n",
    "        \"user_message\": user_messages[i],\n",
    "    }\n",
    "    ids.append(id_)\n",
    "    url = \"http://localhost:8000/chat_completion\"\n",
    "    r = requests.post(url, json=payload)\n",
    "    request_responses.append(r)"
   ]
  },
  {
   "cell_type": "code",
   "execution_count": 5,
   "metadata": {},
   "outputs": [
    {
     "name": "stdout",
     "output_type": "stream",
     "text": [
      "[{'id': 'a4c1c2e5d3f547b6b363204f75c08e71', 'system_message': 'You are a helpful assistant that translates English to French.', 'user_message': 'Translate this sentence from English to French. I love programming.', 'response': \"J'adore la programmation.\", 'request_type': 'chat_completion', 'request_time': '1690852461.5079093', 'response_time': '1690852463.8389158', 'processed': True, 'processor': '0x15d34AAf54267DB7D7c367839AAf71A00a2C6A65', 'error': False, 'error_message': None, 'error_name': None}]\n",
      "[{'id': 'abb3b19594ea4cd38e3eab0d91dbcdab', 'system_message': 'You are a helpful assistant that translates English to Italian.', 'user_message': 'Translate this sentence from English to Italian. I love programming.', 'response': 'Amo la programmazione.', 'request_type': 'chat_completion', 'request_time': '1690852461.5149474', 'response_time': '1690852467.0527642', 'processed': True, 'processor': '0x15d34AAf54267DB7D7c367839AAf71A00a2C6A65', 'error': False, 'error_message': None, 'error_name': None}]\n",
      "[{'id': '4ad555d3dc304f56b6a5f9fbc8ccf76a', 'system_message': 'You are a helpful assistant that translates English to Spanish.', 'user_message': 'Translate this sentence from English to Spanish. I love programming.', 'response': 'Amo programar.', 'request_type': 'chat_completion', 'request_time': '1690852461.5201745', 'response_time': '1690852470.6830304', 'processed': True, 'processor': '0x15d34AAf54267DB7D7c367839AAf71A00a2C6A65', 'error': False, 'error_message': None, 'error_name': None}]\n",
      "[{'id': '463c6f92880b46d0a9ca775fb70daa41', 'system_message': 'You are a helpful assistant that translates English to German.', 'user_message': 'Translate this sentence from English to German. I love programming.', 'response': 'Ich liebe das Programmieren.', 'request_type': 'chat_completion', 'request_time': '1690852461.525427', 'response_time': '1690852473.8588612', 'processed': True, 'processor': '0x15d34AAf54267DB7D7c367839AAf71A00a2C6A65', 'error': False, 'error_message': None, 'error_name': None}]\n",
      "[{'id': '3f8a087757b2473480c79eb4a03b0d8d', 'system_message': 'You are a helpful assistant that translates English to Russian.', 'user_message': 'Translate this sentence from English to Russian. I love programming.', 'response': 'Я люблю программирование.', 'request_type': 'chat_completion', 'request_time': '1690852461.5308006', 'response_time': '1690852476.8268337', 'processed': True, 'processor': '0x15d34AAf54267DB7D7c367839AAf71A00a2C6A65', 'error': False, 'error_message': None, 'error_name': None}]\n"
     ]
    }
   ],
   "source": [
    "# retrieve multiple responses from the server\n",
    "\n",
    "for id_, r in zip(ids, request_responses):\n",
    "    get_url = f\"http://localhost:8000/get/{id_}\"\n",
    "    r = requests.get(get_url)\n",
    "    print(r.json())"
   ]
  },
  {
   "cell_type": "markdown",
   "metadata": {},
   "source": [
    "##### Embedding"
   ]
  },
  {
   "cell_type": "code",
   "execution_count": 6,
   "metadata": {},
   "outputs": [
    {
     "data": {
      "text/plain": [
       "{'id': '3a7be8e18ab3404391454802425267b6'}"
      ]
     },
     "execution_count": 6,
     "metadata": {},
     "output_type": "execute_result"
    }
   ],
   "source": [
    "# Upload a file to create an embedding.\n",
    "# NOTE: For pdf files, you need to parse locally and upload the text file.\n",
    "\n",
    "emb_id_ = uuid.uuid4().hex\n",
    "payload = {\n",
    "    \"id\": emb_id_,\n",
    "    \"system_message\": \"You are a helpful assistant that translates English to French.\",\n",
    "    \"user_message\": \"Translate this sentence from English to French. I love programming.\",\n",
    "}\n",
    "\n",
    "# Add a file\n",
    "file = open(\"../../README.md\", \"rb\")\n",
    "files = {\"file\": file}\n",
    "\n",
    "url = \"http://localhost:8000/embedding\"\n",
    "r = requests.post(url, files=files, data={\"data\":json.dumps(payload)})\n",
    "r.raise_for_status()\n",
    "r.json()"
   ]
  },
  {
   "cell_type": "markdown",
   "metadata": {},
   "source": [
    "##### chat"
   ]
  },
  {
   "cell_type": "code",
   "execution_count": 7,
   "metadata": {},
   "outputs": [],
   "source": [
    "# Chatting over the embedding above. Since no `memory_id` is provided, the agent will assume this is a new conversation\n",
    "id_ = uuid.uuid4().hex\n",
    "payload = {\n",
    "    \"id\": id_,\n",
    "    \"context_id\": emb_id_, # Is the same as the id when making the embedding\n",
    "    \"question\": \"What is daios?\",\n",
    "}\n",
    "\n",
    "url = \"http://localhost:8000/chat\"\n",
    "r = requests.post(url, json=payload)\n",
    "r.raise_for_status()\n",
    "r = r.json()\n",
    "mem_id = r[\"memory_id\"]\n"
   ]
  },
  {
   "cell_type": "code",
   "execution_count": 8,
   "metadata": {},
   "outputs": [
    {
     "data": {
      "text/plain": [
       "[{'id': '7a77137652c945acadee33d81f2f5611',\n",
       "  'context_id': '3a7be8e18ab3404391454802425267b6',\n",
       "  'memory_id': '195de86fdbab4ba1a88bed0442bbcb79',\n",
       "  'question': 'What is daios?',\n",
       "  'modified_question': None,\n",
       "  'response': 'Based on the context provided, \"DAIOS\" refers to the Decentralized AI Operating System. It is an extension of the Open Autonomy framework and is being developed as part of a collaboration between Algovera and Valory. The goal of DAIOS is to create a decentralized operating system for AI that integrates with blockchain and messaging technologies.',\n",
       "  'chat_history': [{'role': 'user', 'content': 'What is daios?'},\n",
       "   {'role': 'assistant',\n",
       "    'content': 'Based on the context provided, \"DAIOS\" refers to the Decentralized AI Operating System. It is an extension of the Open Autonomy framework and is being developed as part of a collaboration between Algovera and Valory. The goal of DAIOS is to create a decentralized operating system for AI that integrates with blockchain and messaging technologies.'}],\n",
       "  'request_time': '1690852504.598728',\n",
       "  'response_time': '1690852512.04091',\n",
       "  'request_type': 'chat',\n",
       "  'processed': True,\n",
       "  'processor': '0x15d34AAf54267DB7D7c367839AAf71A00a2C6A65',\n",
       "  'error': False,\n",
       "  'error_message': None,\n",
       "  'error_name': None}]"
      ]
     },
     "execution_count": 8,
     "metadata": {},
     "output_type": "execute_result"
    }
   ],
   "source": [
    "get_url = f\"http://localhost:8000/get/{id_}\"\n",
    "\n",
    "r = requests.get(get_url)\n",
    "r.raise_for_status()\n",
    "r = r.json(); r"
   ]
  },
  {
   "cell_type": "code",
   "execution_count": 9,
   "metadata": {},
   "outputs": [
    {
     "data": {
      "text/plain": [
       "{'id': '170842975dde4a879b8742583b6940f1',\n",
       " 'memory_id': '195de86fdbab4ba1a88bed0442bbcb79'}"
      ]
     },
     "execution_count": 9,
     "metadata": {},
     "output_type": "execute_result"
    }
   ],
   "source": [
    "# since a `memory_id` is provided, the agent will use the memory to generate a follow-up response\n",
    "id_ = uuid.uuid4().hex\n",
    "payload = {\n",
    "    \"id\": id_,\n",
    "    \"context_id\": emb_id_,\n",
    "    \"memory_id\": mem_id,\n",
    "    \"question\": \"does it provide a platform?\",\n",
    "}\n",
    "\n",
    "url = \"http://localhost:8000/chat\"\n",
    "r = requests.post(url, json=payload)\n",
    "r.raise_for_status()\n",
    "r.json()"
   ]
  },
  {
   "cell_type": "code",
   "execution_count": 11,
   "metadata": {},
   "outputs": [
    {
     "data": {
      "text/plain": [
       "[{'id': '170842975dde4a879b8742583b6940f1',\n",
       "  'context_id': '3a7be8e18ab3404391454802425267b6',\n",
       "  'memory_id': '195de86fdbab4ba1a88bed0442bbcb79',\n",
       "  'question': 'does it provide a platform?',\n",
       "  'modified_question': 'Does DAIOS provide a platform?',\n",
       "  'response': 'Question: Does DAIOS provide a platform?\\n\\nAnswer: Based on the provided context, it is not explicitly stated whether DAIOS provides a platform.',\n",
       "  'chat_history': [{'role': 'user', 'content': 'What is daios?'},\n",
       "   {'role': 'assistant',\n",
       "    'content': 'Based on the context provided, \"DAIOS\" refers to the Decentralized AI Operating System. It is an extension of the Open Autonomy framework and is being developed as part of a collaboration between Algovera and Valory. The goal of DAIOS is to create a decentralized operating system for AI that integrates with blockchain and messaging technologies.'},\n",
       "   {'role': 'user', 'content': 'Does DAIOS provide a platform?'},\n",
       "   {'role': 'assistant',\n",
       "    'content': 'Question: Does DAIOS provide a platform?\\n\\nAnswer: Based on the provided context, it is not explicitly stated whether DAIOS provides a platform.'}],\n",
       "  'request_time': '1690852521.326919',\n",
       "  'response_time': '1690852527.8809822',\n",
       "  'request_type': 'chat',\n",
       "  'processed': True,\n",
       "  'processor': '0x15d34AAf54267DB7D7c367839AAf71A00a2C6A65',\n",
       "  'error': False,\n",
       "  'error_message': None,\n",
       "  'error_name': None}]"
      ]
     },
     "execution_count": 11,
     "metadata": {},
     "output_type": "execute_result"
    }
   ],
   "source": [
    "get_url = f\"http://localhost:8000/get/{id_}\"\n",
    "\n",
    "r = requests.get(get_url)\n",
    "r = r.json()\n",
    "r"
   ]
  },
  {
   "cell_type": "markdown",
   "metadata": {},
   "source": [
    "##### Bad requests are handled within the http_server"
   ]
  },
  {
   "cell_type": "code",
   "execution_count": 14,
   "metadata": {},
   "outputs": [
    {
     "ename": "HTTPError",
     "evalue": "500 Server Error: Server Error for url: http://localhost:8000/chat",
     "output_type": "error",
     "traceback": [
      "\u001b[0;31m---------------------------------------------------------------------------\u001b[0m",
      "\u001b[0;31mHTTPError\u001b[0m                                 Traceback (most recent call last)",
      "Cell \u001b[0;32mIn[14], line 12\u001b[0m\n\u001b[1;32m     10\u001b[0m url \u001b[39m=\u001b[39m \u001b[39m\"\u001b[39m\u001b[39mhttp://localhost:8000/chat\u001b[39m\u001b[39m\"\u001b[39m\n\u001b[1;32m     11\u001b[0m r \u001b[39m=\u001b[39m requests\u001b[39m.\u001b[39mpost(url, json\u001b[39m=\u001b[39mpayload)\n\u001b[0;32m---> 12\u001b[0m r\u001b[39m.\u001b[39;49mraise_for_status()\n\u001b[1;32m     13\u001b[0m \u001b[39mprint\u001b[39m(r\u001b[39m.\u001b[39mstatus_code)\n",
      "File \u001b[0;32m~/anaconda3/envs/testoa/lib/python3.10/site-packages/requests/models.py:1021\u001b[0m, in \u001b[0;36mResponse.raise_for_status\u001b[0;34m(self)\u001b[0m\n\u001b[1;32m   1016\u001b[0m     http_error_msg \u001b[39m=\u001b[39m (\n\u001b[1;32m   1017\u001b[0m         \u001b[39mf\u001b[39m\u001b[39m\"\u001b[39m\u001b[39m{\u001b[39;00m\u001b[39mself\u001b[39m\u001b[39m.\u001b[39mstatus_code\u001b[39m}\u001b[39;00m\u001b[39m Server Error: \u001b[39m\u001b[39m{\u001b[39;00mreason\u001b[39m}\u001b[39;00m\u001b[39m for url: \u001b[39m\u001b[39m{\u001b[39;00m\u001b[39mself\u001b[39m\u001b[39m.\u001b[39murl\u001b[39m}\u001b[39;00m\u001b[39m\"\u001b[39m\n\u001b[1;32m   1018\u001b[0m     )\n\u001b[1;32m   1020\u001b[0m \u001b[39mif\u001b[39;00m http_error_msg:\n\u001b[0;32m-> 1021\u001b[0m     \u001b[39mraise\u001b[39;00m HTTPError(http_error_msg, response\u001b[39m=\u001b[39m\u001b[39mself\u001b[39m)\n",
      "\u001b[0;31mHTTPError\u001b[0m: 500 Server Error: Server Error for url: http://localhost:8000/chat"
     ]
    }
   ],
   "source": [
    "# non-existent memory\n",
    "id_ = uuid.uuid4().hex\n",
    "payload = {\n",
    "    \"id\": id_,\n",
    "    \"context_id\": \"bf68b34c19964a73ba03c9779ef70fa9\",\n",
    "    \"memory_id\": \"87b9426ab1f84ad689e0eb29e350db83\",\n",
    "    \"question\": \"What is daios?\",\n",
    "}\n",
    "\n",
    "url = \"http://localhost:8000/chat\"\n",
    "r = requests.post(url, json=payload)\n",
    "r.raise_for_status()\n",
    "print(r.status_code)\n"
   ]
  },
  {
   "cell_type": "code",
   "execution_count": 13,
   "metadata": {},
   "outputs": [
    {
     "ename": "HTTPError",
     "evalue": "400 Client Error: context_id bf68b34c19964a73ba03c9779ef70fa9 does not exist for url: http://localhost:8000/chat",
     "output_type": "error",
     "traceback": [
      "\u001b[0;31m---------------------------------------------------------------------------\u001b[0m",
      "\u001b[0;31mHTTPError\u001b[0m                                 Traceback (most recent call last)",
      "Cell \u001b[0;32mIn[13], line 11\u001b[0m\n\u001b[1;32m      9\u001b[0m url \u001b[39m=\u001b[39m \u001b[39m\"\u001b[39m\u001b[39mhttp://localhost:8000/chat\u001b[39m\u001b[39m\"\u001b[39m\n\u001b[1;32m     10\u001b[0m r \u001b[39m=\u001b[39m requests\u001b[39m.\u001b[39mpost(url, json\u001b[39m=\u001b[39mpayload)\n\u001b[0;32m---> 11\u001b[0m r\u001b[39m.\u001b[39;49mraise_for_status()\n\u001b[1;32m     12\u001b[0m \u001b[39mprint\u001b[39m(r\u001b[39m.\u001b[39mstatus_code)\n",
      "File \u001b[0;32m~/anaconda3/envs/testoa/lib/python3.10/site-packages/requests/models.py:1021\u001b[0m, in \u001b[0;36mResponse.raise_for_status\u001b[0;34m(self)\u001b[0m\n\u001b[1;32m   1016\u001b[0m     http_error_msg \u001b[39m=\u001b[39m (\n\u001b[1;32m   1017\u001b[0m         \u001b[39mf\u001b[39m\u001b[39m\"\u001b[39m\u001b[39m{\u001b[39;00m\u001b[39mself\u001b[39m\u001b[39m.\u001b[39mstatus_code\u001b[39m}\u001b[39;00m\u001b[39m Server Error: \u001b[39m\u001b[39m{\u001b[39;00mreason\u001b[39m}\u001b[39;00m\u001b[39m for url: \u001b[39m\u001b[39m{\u001b[39;00m\u001b[39mself\u001b[39m\u001b[39m.\u001b[39murl\u001b[39m}\u001b[39;00m\u001b[39m\"\u001b[39m\n\u001b[1;32m   1018\u001b[0m     )\n\u001b[1;32m   1020\u001b[0m \u001b[39mif\u001b[39;00m http_error_msg:\n\u001b[0;32m-> 1021\u001b[0m     \u001b[39mraise\u001b[39;00m HTTPError(http_error_msg, response\u001b[39m=\u001b[39m\u001b[39mself\u001b[39m)\n",
      "\u001b[0;31mHTTPError\u001b[0m: 400 Client Error: context_id bf68b34c19964a73ba03c9779ef70fa9 does not exist for url: http://localhost:8000/chat"
     ]
    }
   ],
   "source": [
    "# non-existent context\n",
    "id_ = uuid.uuid4().hex\n",
    "payload = {\n",
    "    \"id\": id_,\n",
    "    \"context_id\": \"bf68b34c19964a73ba03c9779ef70fa9\",\n",
    "    \"question\": \"What is daios?\",\n",
    "}\n",
    "\n",
    "url = \"http://localhost:8000/chat\"\n",
    "r = requests.post(url, json=payload)\n",
    "r.raise_for_status()\n",
    "print(r.status_code)\n"
   ]
  },
  {
   "cell_type": "markdown",
   "metadata": {},
   "source": [
    "### V2 (Deprecated)"
   ]
  },
  {
   "cell_type": "code",
   "execution_count": 1,
   "metadata": {},
   "outputs": [],
   "source": [
    "import pika\n",
    "import json\n",
    "import uuid"
   ]
  },
  {
   "cell_type": "code",
   "execution_count": null,
   "metadata": {},
   "outputs": [],
   "source": [
    "credentials = pika.PlainCredentials('guest', 'guest')\n",
    "parameters = pika.ConnectionParameters('localhost', 5672, credentials=credentials)\n",
    "connection = pika.BlockingConnection(parameters)\n",
    "channel = connection.channel()\n",
    "# channel.queue_declare(queue=\"consume_queue\")\n",
    "\n",
    "\n",
    "id = uuid.uuid4().hex\n",
    "\n",
    "# basic publish\n",
    "channel.basic_publish(\n",
    "    exchange='',\n",
    "    routing_key='consume_queue',\n",
    "    body=json.dumps({\"id\":id, \"user_message\": \"What is the capital of India?\"})\n",
    ")\n",
    "\n",
    "id"
   ]
  },
  {
   "cell_type": "code",
   "execution_count": null,
   "metadata": {},
   "outputs": [],
   "source": [
    "credentials = pika.PlainCredentials('guest', 'guest')\n",
    "parameters = pika.ConnectionParameters('localhost', 5672, credentials=credentials)\n",
    "connection = pika.BlockingConnection(parameters)\n",
    "channel = connection.channel()\n",
    "# channel.queue_declare(queue=\"consume_queue\")\n",
    "\n",
    "# basic publish\n",
    "method_frame, header_frame, body = channel.basic_get(queue=\"publish_queue\", auto_ack=True)\n",
    "\n",
    "body"
   ]
  },
  {
   "cell_type": "markdown",
   "metadata": {},
   "source": [
    "### Deprecated"
   ]
  },
  {
   "cell_type": "code",
   "execution_count": 2,
   "metadata": {},
   "outputs": [],
   "source": [
    "rmq = InteractRabbitMQ()\n",
    "rmq.start()\n",
    "id_ = uuid.uuid4().hex\n",
    "req = {\"request\": \"What is the capital of Indonesia\", \"id\": id_}"
   ]
  },
  {
   "cell_type": "code",
   "execution_count": 3,
   "metadata": {},
   "outputs": [],
   "source": [
    "rmq.enqueue_request(req)"
   ]
  },
  {
   "cell_type": "code",
   "execution_count": 4,
   "metadata": {},
   "outputs": [],
   "source": [
    "res = rmq.get_response_queue(id_)"
   ]
  },
  {
   "cell_type": "code",
   "execution_count": 5,
   "metadata": {},
   "outputs": [
    {
     "data": {
      "text/plain": [
       "{'id': '3856e399bb064584a2a650c73d1f7b2c',\n",
       " 'request': 'What is the capital of Indonesia',\n",
       " 'response': 'The capital of Indonesia is Jakarta.'}"
      ]
     },
     "execution_count": 5,
     "metadata": {},
     "output_type": "execute_result"
    }
   ],
   "source": [
    "res"
   ]
  },
  {
   "cell_type": "code",
   "execution_count": null,
   "metadata": {},
   "outputs": [],
   "source": []
  }
 ],
 "metadata": {
  "kernelspec": {
   "display_name": "openautonomy",
   "language": "python",
   "name": "python3"
  },
  "language_info": {
   "codemirror_mode": {
    "name": "ipython",
    "version": 3
   },
   "file_extension": ".py",
   "mimetype": "text/x-python",
   "name": "python",
   "nbconvert_exporter": "python",
   "pygments_lexer": "ipython3",
   "version": "3.10.12"
  },
  "orig_nbformat": 4
 },
 "nbformat": 4,
 "nbformat_minor": 2
}
